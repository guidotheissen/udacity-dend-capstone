{
 "cells": [
  {
   "cell_type": "markdown",
   "metadata": {},
   "source": [
    "# US Immigration Statistics\n",
    "### Data Engineering Capstone Project\n",
    "\n",
    "#### Project Summary\n",
    "Based on the 2016 data of immigrations into the US we want to analyse to which cities in the US immigration took place and what characteristics these cities have regarding population and airport infrastructure.\n",
    "\n",
    "\n",
    "\n",
    "##### The project follows the following steps:\n",
    "* Step 1: Scope the Project and Gather Data\n",
    "* Step 2: Explore and Assess the Data\n",
    "* Step 3: Define the Data Model\n",
    "* Step 4: Run ETL to Model the Data\n",
    "* Step 5: Complete Project Write Up"
   ]
  },
  {
   "cell_type": "code",
   "execution_count": 106,
   "metadata": {},
   "outputs": [],
   "source": [
    "# Do all imports and installs here\n",
    "import pandas as pd\n",
    "import glob\n",
    "from pyspark.sql import SparkSession\n",
    "from pyspark.sql import functions as sf\n",
    "from pyspark.sql.types import StringType, IntegerType, DoubleType, BooleanType, DateType\n",
    "from pyspark.sql.functions import concat, col, lit,udf\n",
    "import re\n",
    "import datetime as dt\n",
    "import quality_check_functions\n",
    "import etl\n",
    "import importlib\n",
    "from CodeUtilities import CodeUtilities\n",
    "importlib.reload(quality_check_functions)\n",
    "from quality_check_functions import performQualityChecks,check_existence\n",
    "importlib.reload(etl)\n",
    "from etl import process_city_data,process_country_codes,process_airport_data,process_state_codes\n"
   ]
  },
  {
   "cell_type": "code",
   "execution_count": 88,
   "metadata": {},
   "outputs": [],
   "source": [
    "spark = SparkSession.builder.\\\n",
    "config(\"spark.jars.repositories\", \"https://repos.spark-packages.org/\").\\\n",
    "config(\"spark.jars.packages\", \"saurfang:spark-sas7bdat:2.0.0-s_2.11\").\\\n",
    "enableHiveSupport().getOrCreate()"
   ]
  },
  {
   "cell_type": "markdown",
   "metadata": {},
   "source": [
    "# Step 1: Scope the Project and Gather Data\n",
    "\n",
    "## Scope \n",
    "Create an ETL pipeline for US immigration data, demographic data of US cities and airports to allow queries on the relationship of these data sources and enable deeper analytics on the data.\n",
    "\n",
    "### Describe and Gather Data \n",
    "i94 Immigration Data : This data comes from the US National Tourism and Trade Office. This table is used for the fact table in this project.\n",
    "\n",
    "U.S. City Demographic Data us-cities-demographics. This dataset contains population details of all US Cities and census-designated places includes gender & race information. This data came from OpenSoft. The table is grouped by state to get aggregated statistics.¶\n",
    "\n",
    "Airport Codes is a simple table of airport codes and corresponding cities. The rows where IATA codes are available in the table are selected for this project. "
   ]
  },
  {
   "cell_type": "markdown",
   "metadata": {},
   "source": [
    "# Step 2: Explore and Assess the Data"
   ]
  },
  {
   "cell_type": "markdown",
   "metadata": {},
   "source": [
    "## Immigration Data"
   ]
  },
  {
   "cell_type": "code",
   "execution_count": null,
   "metadata": {},
   "outputs": [],
   "source": [
    "print(glob.glob(\"../../data/*/*\"))"
   ]
  },
  {
   "cell_type": "markdown",
   "metadata": {},
   "source": [
    "-> 12 files available, one for each month in 2016."
   ]
  },
  {
   "cell_type": "code",
   "execution_count": null,
   "metadata": {},
   "outputs": [],
   "source": [
    "df_spark = spark.read.format('com.github.saurfang.sas.spark').load('../../data/18-83510-I94-Data-2016/i94_jun16_sub.sas7bdat').drop('validres','delete_days','delete_mexl','delete_dup','delete_visa','delete_recdup')\n",
    "df_spark.printSchema()\n",
    "print(f\"Rows: {df_spark.count()}\")\n",
    "\n",
    "for file in glob.glob(\"../../data/*/*\"):\n",
    "    print('Reading file '+file)\n",
    "    if  '18-83510-I94-Data-2016/i94_jun16_sub.sas7bdat' not in file:\n",
    "        df_spark = df_spark.unionByName(spark.read.format('com.github.saurfang.sas.spark').load(file))\n",
    "        print(f\"Rows: {df_spark.count()}\")\n",
    "    \n",
    "#df_spark = spark.read.format('com.github.saurfang.sas.spark').load('../../data/18-83510-I94-Data-2016')\n",
    "columns_in_file=len(df_spark.columns)\n",
    "rows_in_file=df_spark.count()\n",
    "distinct_rows_data=df_spark.distinct().count()\n",
    "print(f\"The total number of columns in the data file are {columns_in_file} and number of rows {rows_in_file} \")\n",
    "print(f\"Count of distinct number of rows {distinct_rows_data} \")"
   ]
  },
  {
   "cell_type": "code",
   "execution_count": null,
   "metadata": {},
   "outputs": [],
   "source": [
    "#write to parquet\n",
    "df_spark.write.parquet(\"all_sas_data\")\n",
    "df_spark=spark.read.parquet(\"all_sas_data\")"
   ]
  },
  {
   "cell_type": "markdown",
   "metadata": {},
   "source": [
    "Over 40m entries in immigration data files!\n",
    "File from June contains additional columns to the other files. The columns were removed since they are not needed and hinder aggregation of the data."
   ]
  },
  {
   "cell_type": "markdown",
   "metadata": {},
   "source": [
    "## US Cities demographic data"
   ]
  },
  {
   "cell_type": "code",
   "execution_count": 90,
   "metadata": {},
   "outputs": [
    {
     "name": "stdout",
     "output_type": "stream",
     "text": [
      "<Not Empty> quality check passed for us-cities-demographics.csv with 2,891 records.\n",
      "<All lines loaded> quality check passed!\n",
      "<Check existence> quality check succeeeded\n"
     ]
    },
    {
     "data": {
      "text/html": [
       "<div>\n",
       "<style scoped>\n",
       "    .dataframe tbody tr th:only-of-type {\n",
       "        vertical-align: middle;\n",
       "    }\n",
       "\n",
       "    .dataframe tbody tr th {\n",
       "        vertical-align: top;\n",
       "    }\n",
       "\n",
       "    .dataframe thead th {\n",
       "        text-align: right;\n",
       "    }\n",
       "</style>\n",
       "<table border=\"1\" class=\"dataframe\">\n",
       "  <thead>\n",
       "    <tr style=\"text-align: right;\">\n",
       "      <th></th>\n",
       "      <th>City</th>\n",
       "      <th>State</th>\n",
       "      <th>Median Age</th>\n",
       "      <th>Male Population</th>\n",
       "      <th>Female Population</th>\n",
       "      <th>Total Population</th>\n",
       "      <th>Number of Veterans</th>\n",
       "      <th>Foreign-born</th>\n",
       "      <th>Average Household Size</th>\n",
       "      <th>state_code</th>\n",
       "      <th>Race</th>\n",
       "      <th>Count</th>\n",
       "    </tr>\n",
       "  </thead>\n",
       "  <tbody>\n",
       "    <tr>\n",
       "      <th>0</th>\n",
       "      <td>Silver Spring</td>\n",
       "      <td>Maryland</td>\n",
       "      <td>33.8</td>\n",
       "      <td>40601</td>\n",
       "      <td>41862</td>\n",
       "      <td>82463</td>\n",
       "      <td>1562</td>\n",
       "      <td>30908</td>\n",
       "      <td>2.60</td>\n",
       "      <td>MD</td>\n",
       "      <td>Hispanic or Latino</td>\n",
       "      <td>25924</td>\n",
       "    </tr>\n",
       "    <tr>\n",
       "      <th>1</th>\n",
       "      <td>Quincy</td>\n",
       "      <td>Massachusetts</td>\n",
       "      <td>41.0</td>\n",
       "      <td>44129</td>\n",
       "      <td>49500</td>\n",
       "      <td>93629</td>\n",
       "      <td>4147</td>\n",
       "      <td>32935</td>\n",
       "      <td>2.39</td>\n",
       "      <td>MA</td>\n",
       "      <td>White</td>\n",
       "      <td>58723</td>\n",
       "    </tr>\n",
       "    <tr>\n",
       "      <th>2</th>\n",
       "      <td>Hoover</td>\n",
       "      <td>Alabama</td>\n",
       "      <td>38.5</td>\n",
       "      <td>38040</td>\n",
       "      <td>46799</td>\n",
       "      <td>84839</td>\n",
       "      <td>4819</td>\n",
       "      <td>8229</td>\n",
       "      <td>2.58</td>\n",
       "      <td>AL</td>\n",
       "      <td>Asian</td>\n",
       "      <td>4759</td>\n",
       "    </tr>\n",
       "    <tr>\n",
       "      <th>3</th>\n",
       "      <td>Rancho Cucamonga</td>\n",
       "      <td>California</td>\n",
       "      <td>34.5</td>\n",
       "      <td>88127</td>\n",
       "      <td>87105</td>\n",
       "      <td>175232</td>\n",
       "      <td>5821</td>\n",
       "      <td>33878</td>\n",
       "      <td>3.18</td>\n",
       "      <td>CA</td>\n",
       "      <td>Black or African-American</td>\n",
       "      <td>24437</td>\n",
       "    </tr>\n",
       "    <tr>\n",
       "      <th>4</th>\n",
       "      <td>Newark</td>\n",
       "      <td>New Jersey</td>\n",
       "      <td>34.6</td>\n",
       "      <td>138040</td>\n",
       "      <td>143873</td>\n",
       "      <td>281913</td>\n",
       "      <td>5829</td>\n",
       "      <td>86253</td>\n",
       "      <td>2.73</td>\n",
       "      <td>NJ</td>\n",
       "      <td>White</td>\n",
       "      <td>76402</td>\n",
       "    </tr>\n",
       "  </tbody>\n",
       "</table>\n",
       "</div>"
      ],
      "text/plain": [
       "               City          State  Median Age  Male Population  \\\n",
       "0     Silver Spring       Maryland        33.8            40601   \n",
       "1            Quincy  Massachusetts        41.0            44129   \n",
       "2            Hoover        Alabama        38.5            38040   \n",
       "3  Rancho Cucamonga     California        34.5            88127   \n",
       "4            Newark     New Jersey        34.6           138040   \n",
       "\n",
       "   Female Population  Total Population  Number of Veterans  Foreign-born  \\\n",
       "0              41862             82463                1562         30908   \n",
       "1              49500             93629                4147         32935   \n",
       "2              46799             84839                4819          8229   \n",
       "3              87105            175232                5821         33878   \n",
       "4             143873            281913                5829         86253   \n",
       "\n",
       "   Average Household Size state_code                       Race  Count  \n",
       "0                    2.60         MD         Hispanic or Latino  25924  \n",
       "1                    2.39         MA                      White  58723  \n",
       "2                    2.58         AL                      Asian   4759  \n",
       "3                    3.18         CA  Black or African-American  24437  \n",
       "4                    2.73         NJ                      White  76402  "
      ]
     },
     "execution_count": 90,
     "metadata": {},
     "output_type": "execute_result"
    }
   ],
   "source": [
    "file_name = \"us-cities-demographics.csv\"\n",
    "demographics_df = spark.read.csv(file_name, inferSchema=True, header=True, sep=';')\n",
    "\n",
    "performQualityChecks(demographics_df, file_name, True)\n",
    "demographics_df = demographics_df.withColumnRenamed('State Code', 'state_code')\n",
    "check_existence(demographics_df, '((City=\\'Silver Spring\\') AND (state_code=\\'MD\\'))')\n",
    "demographics_df.createOrReplaceTempView('demographics')\n",
    "result = spark.sql(\"SELECT count(*) as result FROM demographics where City = 'Silver Spring' and state_code = 'MD'\")\n",
    "result.collect()[0][0]\n",
    "# display the first five records\n",
    "demographics_df.limit(5).toPandas()\n"
   ]
  },
  {
   "cell_type": "markdown",
   "metadata": {},
   "source": [
    "Let's look at the data for one city:"
   ]
  },
  {
   "cell_type": "code",
   "execution_count": 91,
   "metadata": {},
   "outputs": [
    {
     "data": {
      "text/html": [
       "<div>\n",
       "<style scoped>\n",
       "    .dataframe tbody tr th:only-of-type {\n",
       "        vertical-align: middle;\n",
       "    }\n",
       "\n",
       "    .dataframe tbody tr th {\n",
       "        vertical-align: top;\n",
       "    }\n",
       "\n",
       "    .dataframe thead th {\n",
       "        text-align: right;\n",
       "    }\n",
       "</style>\n",
       "<table border=\"1\" class=\"dataframe\">\n",
       "  <thead>\n",
       "    <tr style=\"text-align: right;\">\n",
       "      <th></th>\n",
       "      <th>City</th>\n",
       "      <th>State</th>\n",
       "      <th>Median Age</th>\n",
       "      <th>Male Population</th>\n",
       "      <th>Female Population</th>\n",
       "      <th>Total Population</th>\n",
       "      <th>Number of Veterans</th>\n",
       "      <th>Foreign-born</th>\n",
       "      <th>Average Household Size</th>\n",
       "      <th>state_code</th>\n",
       "      <th>Race</th>\n",
       "      <th>Count</th>\n",
       "    </tr>\n",
       "  </thead>\n",
       "  <tbody>\n",
       "    <tr>\n",
       "      <th>0</th>\n",
       "      <td>Silver Spring</td>\n",
       "      <td>Maryland</td>\n",
       "      <td>33.8</td>\n",
       "      <td>40601</td>\n",
       "      <td>41862</td>\n",
       "      <td>82463</td>\n",
       "      <td>1562</td>\n",
       "      <td>30908</td>\n",
       "      <td>2.6</td>\n",
       "      <td>MD</td>\n",
       "      <td>Hispanic or Latino</td>\n",
       "      <td>25924</td>\n",
       "    </tr>\n",
       "    <tr>\n",
       "      <th>1</th>\n",
       "      <td>Silver Spring</td>\n",
       "      <td>Maryland</td>\n",
       "      <td>33.8</td>\n",
       "      <td>40601</td>\n",
       "      <td>41862</td>\n",
       "      <td>82463</td>\n",
       "      <td>1562</td>\n",
       "      <td>30908</td>\n",
       "      <td>2.6</td>\n",
       "      <td>MD</td>\n",
       "      <td>White</td>\n",
       "      <td>37756</td>\n",
       "    </tr>\n",
       "    <tr>\n",
       "      <th>2</th>\n",
       "      <td>Silver Spring</td>\n",
       "      <td>Maryland</td>\n",
       "      <td>33.8</td>\n",
       "      <td>40601</td>\n",
       "      <td>41862</td>\n",
       "      <td>82463</td>\n",
       "      <td>1562</td>\n",
       "      <td>30908</td>\n",
       "      <td>2.6</td>\n",
       "      <td>MD</td>\n",
       "      <td>Black or African-American</td>\n",
       "      <td>21330</td>\n",
       "    </tr>\n",
       "    <tr>\n",
       "      <th>3</th>\n",
       "      <td>Silver Spring</td>\n",
       "      <td>Maryland</td>\n",
       "      <td>33.8</td>\n",
       "      <td>40601</td>\n",
       "      <td>41862</td>\n",
       "      <td>82463</td>\n",
       "      <td>1562</td>\n",
       "      <td>30908</td>\n",
       "      <td>2.6</td>\n",
       "      <td>MD</td>\n",
       "      <td>American Indian and Alaska Native</td>\n",
       "      <td>1084</td>\n",
       "    </tr>\n",
       "    <tr>\n",
       "      <th>4</th>\n",
       "      <td>Silver Spring</td>\n",
       "      <td>Maryland</td>\n",
       "      <td>33.8</td>\n",
       "      <td>40601</td>\n",
       "      <td>41862</td>\n",
       "      <td>82463</td>\n",
       "      <td>1562</td>\n",
       "      <td>30908</td>\n",
       "      <td>2.6</td>\n",
       "      <td>MD</td>\n",
       "      <td>Asian</td>\n",
       "      <td>8841</td>\n",
       "    </tr>\n",
       "  </tbody>\n",
       "</table>\n",
       "</div>"
      ],
      "text/plain": [
       "            City     State  Median Age  Male Population  Female Population  \\\n",
       "0  Silver Spring  Maryland        33.8            40601              41862   \n",
       "1  Silver Spring  Maryland        33.8            40601              41862   \n",
       "2  Silver Spring  Maryland        33.8            40601              41862   \n",
       "3  Silver Spring  Maryland        33.8            40601              41862   \n",
       "4  Silver Spring  Maryland        33.8            40601              41862   \n",
       "\n",
       "   Total Population  Number of Veterans  Foreign-born  Average Household Size  \\\n",
       "0             82463                1562         30908                     2.6   \n",
       "1             82463                1562         30908                     2.6   \n",
       "2             82463                1562         30908                     2.6   \n",
       "3             82463                1562         30908                     2.6   \n",
       "4             82463                1562         30908                     2.6   \n",
       "\n",
       "  state_code                               Race  Count  \n",
       "0         MD                 Hispanic or Latino  25924  \n",
       "1         MD                              White  37756  \n",
       "2         MD          Black or African-American  21330  \n",
       "3         MD  American Indian and Alaska Native   1084  \n",
       "4         MD                              Asian   8841  "
      ]
     },
     "execution_count": 91,
     "metadata": {},
     "output_type": "execute_result"
    }
   ],
   "source": [
    "demographics_df.filter('City == \\'Silver Spring\\'').toPandas()"
   ]
  },
  {
   "cell_type": "markdown",
   "metadata": {},
   "source": [
    "Data set contains one row per city per race living in the city. \n",
    "Let's check how man different races are available:"
   ]
  },
  {
   "cell_type": "code",
   "execution_count": 59,
   "metadata": {},
   "outputs": [
    {
     "name": "stdout",
     "output_type": "stream",
     "text": [
      "+--------------------+\n",
      "|                Race|\n",
      "+--------------------+\n",
      "|Black or African-...|\n",
      "|  Hispanic or Latino|\n",
      "|               White|\n",
      "|               Asian|\n",
      "|American Indian a...|\n",
      "+--------------------+\n",
      "\n"
     ]
    }
   ],
   "source": [
    "demographics_df.select('Race').distinct().show()"
   ]
  },
  {
   "cell_type": "markdown",
   "metadata": {},
   "source": [
    "The data is available for five different races."
   ]
  },
  {
   "cell_type": "markdown",
   "metadata": {},
   "source": [
    "## Airport Codes (incl. IATA codes)"
   ]
  },
  {
   "cell_type": "markdown",
   "metadata": {},
   "source": [
    "Filter US airports with IATA code"
   ]
  },
  {
   "cell_type": "code",
   "execution_count": 107,
   "metadata": {},
   "outputs": [
    {
     "name": "stdout",
     "output_type": "stream",
     "text": [
      "<Not Empty> quality check passed for airport-codes_csv.csv with 55,075 records.\n",
      "<All lines loaded> quality check passed!\n",
      "<Not Empty> quality check passed for city_codes.txt with 526 records.\n",
      "<All lines loaded> quality check NOT passed! Number of lines: 533, number of rows: 526\n"
     ]
    },
    {
     "data": {
      "text/html": [
       "<div>\n",
       "<style scoped>\n",
       "    .dataframe tbody tr th:only-of-type {\n",
       "        vertical-align: middle;\n",
       "    }\n",
       "\n",
       "    .dataframe tbody tr th {\n",
       "        vertical-align: top;\n",
       "    }\n",
       "\n",
       "    .dataframe thead th {\n",
       "        text-align: right;\n",
       "    }\n",
       "</style>\n",
       "<table border=\"1\" class=\"dataframe\">\n",
       "  <thead>\n",
       "    <tr style=\"text-align: right;\">\n",
       "      <th></th>\n",
       "      <th>ident</th>\n",
       "      <th>type</th>\n",
       "      <th>name</th>\n",
       "      <th>elevation_ft</th>\n",
       "      <th>continent</th>\n",
       "      <th>iso_country</th>\n",
       "      <th>iso_region</th>\n",
       "      <th>municipality</th>\n",
       "      <th>gps_code</th>\n",
       "      <th>iata_code</th>\n",
       "      <th>local_code</th>\n",
       "      <th>coordinates</th>\n",
       "      <th>state_code</th>\n",
       "      <th>city_code</th>\n",
       "    </tr>\n",
       "  </thead>\n",
       "  <tbody>\n",
       "    <tr>\n",
       "      <th>0</th>\n",
       "      <td>07FA</td>\n",
       "      <td>small_airport</td>\n",
       "      <td>Ocean Reef Club Airport</td>\n",
       "      <td>8</td>\n",
       "      <td>NA</td>\n",
       "      <td>US</td>\n",
       "      <td>US-FL</td>\n",
       "      <td>Key Largo</td>\n",
       "      <td>07FA</td>\n",
       "      <td>OCA</td>\n",
       "      <td>07FA</td>\n",
       "      <td>-80.274803161621, 25.325399398804</td>\n",
       "      <td>FL</td>\n",
       "      <td>000</td>\n",
       "    </tr>\n",
       "    <tr>\n",
       "      <th>1</th>\n",
       "      <td>0AK</td>\n",
       "      <td>small_airport</td>\n",
       "      <td>Pilot Station Airport</td>\n",
       "      <td>305</td>\n",
       "      <td>NA</td>\n",
       "      <td>US</td>\n",
       "      <td>US-AK</td>\n",
       "      <td>Pilot Station</td>\n",
       "      <td>None</td>\n",
       "      <td>PQS</td>\n",
       "      <td>0AK</td>\n",
       "      <td>-162.899994, 61.934601</td>\n",
       "      <td>AK</td>\n",
       "      <td>000</td>\n",
       "    </tr>\n",
       "    <tr>\n",
       "      <th>2</th>\n",
       "      <td>0CO2</td>\n",
       "      <td>small_airport</td>\n",
       "      <td>Crested Butte Airpark</td>\n",
       "      <td>8980</td>\n",
       "      <td>NA</td>\n",
       "      <td>US</td>\n",
       "      <td>US-CO</td>\n",
       "      <td>Crested Butte</td>\n",
       "      <td>0CO2</td>\n",
       "      <td>CSE</td>\n",
       "      <td>0CO2</td>\n",
       "      <td>-106.928341, 38.851918</td>\n",
       "      <td>CO</td>\n",
       "      <td>000</td>\n",
       "    </tr>\n",
       "    <tr>\n",
       "      <th>3</th>\n",
       "      <td>0TE7</td>\n",
       "      <td>small_airport</td>\n",
       "      <td>LBJ Ranch Airport</td>\n",
       "      <td>1515</td>\n",
       "      <td>NA</td>\n",
       "      <td>US</td>\n",
       "      <td>US-TX</td>\n",
       "      <td>Johnson City</td>\n",
       "      <td>0TE7</td>\n",
       "      <td>JCY</td>\n",
       "      <td>0TE7</td>\n",
       "      <td>-98.62249755859999, 30.251800537100003</td>\n",
       "      <td>TX</td>\n",
       "      <td>000</td>\n",
       "    </tr>\n",
       "    <tr>\n",
       "      <th>4</th>\n",
       "      <td>13MA</td>\n",
       "      <td>small_airport</td>\n",
       "      <td>Metropolitan Airport</td>\n",
       "      <td>418</td>\n",
       "      <td>NA</td>\n",
       "      <td>US</td>\n",
       "      <td>US-MA</td>\n",
       "      <td>Palmer</td>\n",
       "      <td>13MA</td>\n",
       "      <td>PMX</td>\n",
       "      <td>13MA</td>\n",
       "      <td>-72.31140136719999, 42.223300933800004</td>\n",
       "      <td>MA</td>\n",
       "      <td>000</td>\n",
       "    </tr>\n",
       "  </tbody>\n",
       "</table>\n",
       "</div>"
      ],
      "text/plain": [
       "  ident           type                     name  elevation_ft continent  \\\n",
       "0  07FA  small_airport  Ocean Reef Club Airport             8        NA   \n",
       "1   0AK  small_airport    Pilot Station Airport           305        NA   \n",
       "2  0CO2  small_airport    Crested Butte Airpark          8980        NA   \n",
       "3  0TE7  small_airport        LBJ Ranch Airport          1515        NA   \n",
       "4  13MA  small_airport     Metropolitan Airport           418        NA   \n",
       "\n",
       "  iso_country iso_region   municipality gps_code iata_code local_code  \\\n",
       "0          US      US-FL      Key Largo     07FA       OCA       07FA   \n",
       "1          US      US-AK  Pilot Station     None       PQS        0AK   \n",
       "2          US      US-CO  Crested Butte     0CO2       CSE       0CO2   \n",
       "3          US      US-TX   Johnson City     0TE7       JCY       0TE7   \n",
       "4          US      US-MA         Palmer     13MA       PMX       13MA   \n",
       "\n",
       "                              coordinates state_code city_code  \n",
       "0       -80.274803161621, 25.325399398804         FL       000  \n",
       "1                  -162.899994, 61.934601         AK       000  \n",
       "2                  -106.928341, 38.851918         CO       000  \n",
       "3  -98.62249755859999, 30.251800537100003         TX       000  \n",
       "4  -72.31140136719999, 42.223300933800004         MA       000  "
      ]
     },
     "execution_count": 107,
     "metadata": {},
     "output_type": "execute_result"
    }
   ],
   "source": [
    "airports_df = process_airport_data(spark,\"airport-codes_csv.csv\")\n",
    "\n",
    "# display the first five records\n",
    "airports_df.limit(5).toPandas()\n"
   ]
  },
  {
   "cell_type": "markdown",
   "metadata": {},
   "source": [
    "Let's habe a look at the differenct types of airports available:"
   ]
  },
  {
   "cell_type": "code",
   "execution_count": 61,
   "metadata": {},
   "outputs": [
    {
     "data": {
      "text/plain": [
       "[Row(type='large_airport'),\n",
       " Row(type='seaplane_base'),\n",
       " Row(type='heliport'),\n",
       " Row(type='closed'),\n",
       " Row(type='medium_airport'),\n",
       " Row(type='small_airport')]"
      ]
     },
     "execution_count": 61,
     "metadata": {},
     "output_type": "execute_result"
    }
   ],
   "source": [
    "airports_df.select('type').distinct().collect()"
   ]
  },
  {
   "cell_type": "markdown",
   "metadata": {},
   "source": [
    "And the amount of airports of each type:"
   ]
  },
  {
   "cell_type": "code",
   "execution_count": 62,
   "metadata": {},
   "outputs": [
    {
     "name": "stdout",
     "output_type": "stream",
     "text": [
      "+--------------+-----+\n",
      "|          type|count|\n",
      "+--------------+-----+\n",
      "|        closed|   63|\n",
      "|      heliport|   19|\n",
      "| large_airport|  167|\n",
      "|medium_airport|  653|\n",
      "| seaplane_base|   72|\n",
      "| small_airport| 1045|\n",
      "+--------------+-----+\n",
      "\n"
     ]
    }
   ],
   "source": [
    "airports_df.groupBy(\"type\").count().orderBy(\"type\").show()"
   ]
  },
  {
   "cell_type": "code",
   "execution_count": 63,
   "metadata": {},
   "outputs": [
    {
     "data": {
      "text/plain": [
       "2019"
      ]
     },
     "execution_count": 63,
     "metadata": {},
     "output_type": "execute_result"
    }
   ],
   "source": [
    "airports_df.count()"
   ]
  },
  {
   "cell_type": "markdown",
   "metadata": {},
   "source": [
    "Since we want to combine the airports data on a geographic base, let's have a look what is given in this data set for the US (only interested in airports with IATA code):"
   ]
  },
  {
   "cell_type": "code",
   "execution_count": 86,
   "metadata": {},
   "outputs": [
    {
     "name": "stdout",
     "output_type": "stream",
     "text": [
      "+-----------+----------+-----+\n",
      "|iso_country|iso_region|count|\n",
      "+-----------+----------+-----+\n",
      "|         US|     US-AK|  334|\n",
      "|         US|     US-AL|   30|\n",
      "|         US|     US-AR|   29|\n",
      "|         US|     US-AZ|   46|\n",
      "|         US|     US-CA|  157|\n",
      "+-----------+----------+-----+\n",
      "only showing top 5 rows\n",
      "\n"
     ]
    }
   ],
   "source": [
    "airports_df.filter(\"iso_country='US'\").filter(\"iata_code != 'none'\").groupBy(\"iso_country\",\"iso_region\").count().orderBy(\"iso_region\").show(5)"
   ]
  },
  {
   "cell_type": "markdown",
   "metadata": {},
   "source": [
    "## Country codes extracted from I94_SAS_Labels_Descriptions.SAS"
   ]
  },
  {
   "cell_type": "code",
   "execution_count": 93,
   "metadata": {},
   "outputs": [
    {
     "name": "stdout",
     "output_type": "stream",
     "text": [
      "<Not Empty> quality check passed for country_codes.txt with 236 records.\n",
      "<All lines loaded> quality check passed!\n"
     ]
    }
   ],
   "source": [
    "countries_df = process_country_codes(spark, 'country_codes.txt')"
   ]
  },
  {
   "cell_type": "code",
   "execution_count": 82,
   "metadata": {},
   "outputs": [
    {
     "data": {
      "text/plain": [
       "[Row(country_code=582, country_name='MEXICO Air Sea, and Not Reported (I-94, no land arrivals)'),\n",
       " Row(country_code=236, country_name='AFGHANISTAN'),\n",
       " Row(country_code=101, country_name='ALBANIA'),\n",
       " Row(country_code=316, country_name='ALGERIA'),\n",
       " Row(country_code=102, country_name='ANDORRA')]"
      ]
     },
     "execution_count": 82,
     "metadata": {},
     "output_type": "execute_result"
    }
   ],
   "source": [
    "countries_df.head(5)"
   ]
  },
  {
   "cell_type": "markdown",
   "metadata": {},
   "source": [
    "## City codes extracted from I94_SAS_Labels_Descriptions.SAS"
   ]
  },
  {
   "cell_type": "code",
   "execution_count": 83,
   "metadata": {},
   "outputs": [
    {
     "name": "stdout",
     "output_type": "stream",
     "text": [
      "<Not Empty> quality check passed for city_codes.txt with 526 records.\n",
      "<All lines loaded> quality check NOT passed! Number of lines: 533, number of rows: 526\n"
     ]
    },
    {
     "data": {
      "text/plain": [
       "DataFrame[code: string, name: string, state_code: string]"
      ]
     },
     "execution_count": 83,
     "metadata": {},
     "output_type": "execute_result"
    }
   ],
   "source": [
    "process_city_data(spark, 'city_codes.txt')"
   ]
  },
  {
   "cell_type": "markdown",
   "metadata": {},
   "source": [
    "## Demographics Data"
   ]
  },
  {
   "cell_type": "code",
   "execution_count": null,
   "metadata": {},
   "outputs": [],
   "source": [
    "demographics_pd = demographics_df.toPandas()\n",
    "\n",
    "for column in demographics_pd.columns:\n",
    "    print(f\"Null data in {column}? : {any(demographics_pd[column].isnull())}\")"
   ]
  },
  {
   "cell_type": "markdown",
   "metadata": {},
   "source": [
    "Empty cells only in non relevant columns."
   ]
  },
  {
   "cell_type": "code",
   "execution_count": null,
   "metadata": {},
   "outputs": [],
   "source": [
    "demographics_pd.shape[0] - demographics_pd.dropna().shape[0]"
   ]
  },
  {
   "cell_type": "code",
   "execution_count": null,
   "metadata": {},
   "outputs": [],
   "source": [
    "demographics_pd.shape"
   ]
  },
  {
   "cell_type": "markdown",
   "metadata": {},
   "source": [
    "Only 16 rows from 2891 are missing values! No problem!\n"
   ]
  },
  {
   "cell_type": "code",
   "execution_count": null,
   "metadata": {},
   "outputs": [],
   "source": [
    "getCityCodeUDF = udf(lambda c,sc: getCityCode(c,sc), StringType())\n",
    "\n",
    "demographics_df = demographics_df.withColumn(\"city_code\", getCityCodeUDF(sf.col(\"City\"), sf.col(\"State Code\")))\n",
    "demographics_df.filter(\"city_code != '000'\").count()\n"
   ]
  },
  {
   "cell_type": "markdown",
   "metadata": {},
   "source": [
    "Found 571 US cities in the given demographic data and in SAS data. Let's focus on these cities!"
   ]
  },
  {
   "cell_type": "markdown",
   "metadata": {},
   "source": [
    "## US airports"
   ]
  },
  {
   "cell_type": "code",
   "execution_count": null,
   "metadata": {},
   "outputs": [],
   "source": [
    "getCityCodeUDF = udf(lambda c,sc: getCityCode(c,sc), StringType())\n",
    "\n",
    "airports_df = airports_df.withColumn(\"city_code\", getCityCodeUDF(sf.col(\"municipality\"), sf.col(\"state_code\")))\n",
    "airports_df.filter(\"city_code != '000'\").count()\n"
   ]
  },
  {
   "cell_type": "markdown",
   "metadata": {},
   "source": [
    "Found 1990 airports in cities of the cities data set"
   ]
  },
  {
   "cell_type": "code",
   "execution_count": null,
   "metadata": {},
   "outputs": [],
   "source": [
    "airports_df.filter(\"city_code != '000'\").head()"
   ]
  },
  {
   "cell_type": "markdown",
   "metadata": {},
   "source": [
    "## US state codes extracted from I94_SAS_Labels_Descriptions.SAS"
   ]
  },
  {
   "cell_type": "code",
   "execution_count": 96,
   "metadata": {},
   "outputs": [
    {
     "name": "stdout",
     "output_type": "stream",
     "text": [
      "<Not Empty> quality check passed for us_state_codes.txt with 55 records.\n",
      "<All lines loaded> quality check passed!\n"
     ]
    }
   ],
   "source": [
    "us_states_df = process_state_codes(spark, 'us_state_codes.txt')\n"
   ]
  },
  {
   "cell_type": "markdown",
   "metadata": {},
   "source": [
    "# Step 3: Define the Data Model\n",
    "## 3.1 Conceptual Data Model\n",
    "Correlation between demographic data and immigration data is evaluated based on the city code. The code must be calculated and added to the demographic data set and the airport dataset. To have a more robust mapping the city code is calculated on the city's name and the US state code.\n",
    "\n",
    "## 3.2 Mapping Out Data Pipelines\n",
    "Build spark views from the explored dataframes to allow easy queuing on the data."
   ]
  },
  {
   "cell_type": "markdown",
   "metadata": {},
   "source": [
    "# Step 4: Run Pipelines to Model the Data \n",
    "## 4.1 Create the data model\n",
    "Build the data pipelines to create the data model."
   ]
  },
  {
   "cell_type": "markdown",
   "metadata": {},
   "source": [
    "### US Airports"
   ]
  },
  {
   "cell_type": "code",
   "execution_count": 85,
   "metadata": {},
   "outputs": [
    {
     "name": "stdout",
     "output_type": "stream",
     "text": [
      "<Not Empty> quality check passed for airport-codes_csv.csv with 55,075 records.\n",
      "<All lines loaded> quality check passed!\n"
     ]
    }
   ],
   "source": [
    "us_airports_df = process_airport_data(spark, 'airport-codes_csv.csv')"
   ]
  },
  {
   "cell_type": "markdown",
   "metadata": {},
   "source": [
    "### Immigration Data"
   ]
  },
  {
   "cell_type": "code",
   "execution_count": null,
   "metadata": {},
   "outputs": [],
   "source": [
    "immigrations_table = etl_immigrations_data(spark, 'sas_data')\n",
    "immigrations_table.limit(20).toPandas()\n",
    "visatype = spark.sql(\"\"\" select visatype, count(*) from immigrations_table group by (visatype)\"\"\")\n",
    "visatype.toPandas()"
   ]
  },
  {
   "cell_type": "code",
   "execution_count": null,
   "metadata": {},
   "outputs": [],
   "source": [
    "immigrations_table.groupBy(\"visa\",\"visatype\").count().orderBy(\"visa\",\"visatype\").show(truncate=False)\n"
   ]
  },
  {
   "cell_type": "markdown",
   "metadata": {},
   "source": [
    "### Demographic Data"
   ]
  },
  {
   "cell_type": "code",
   "execution_count": null,
   "metadata": {},
   "outputs": [],
   "source": [
    "demographics_table = etl_demographic_data(spark,\"us-cities-demographics.csv\")"
   ]
  },
  {
   "cell_type": "markdown",
   "metadata": {},
   "source": [
    "Join immigration data with demographics data and countries table"
   ]
  },
  {
   "cell_type": "code",
   "execution_count": null,
   "metadata": {},
   "outputs": [],
   "source": [
    "countries_df.createOrReplaceTempView('countries')\n",
    "\n",
    "demographics_immigration = spark.sql(\"\"\"\n",
    "    SELECT \n",
    "        i94yr as year,\n",
    "        i94mon as month,\n",
    "        i94cit as origin_city,\n",
    "        country_name,\n",
    "        i94port as destination_city,\n",
    "        arrdate as arrival_date,\n",
    "        visatype as visatype,\n",
    "        (CASE WHEN i94visa = '1.0' \n",
    "            THEN 'business'\n",
    "            ELSE \n",
    "                (CASE WHEN i94visa = '3.0' \n",
    "                     THEN 'student' \n",
    "                     ELSE (CASE WHEN i94visa = '2.0' \n",
    "                              THEN 'pleasure' \n",
    "                              ELSE 'unknown'\n",
    "                          END)\n",
    "                END)\n",
    "        END) as visa,\n",
    "        total_population,\n",
    "        City as city,\n",
    "        State as state\n",
    "    FROM immigrations_table\n",
    "    LEFT JOIN demographics_table ON demographics_table.city_code = immigrations_table.i94port\n",
    "    LEFT JOIN countries ON countries.country_code = immigrations_table.i94cit\n",
    "\"\"\")\n",
    "demographics_immigration.limit(20).toPandas()"
   ]
  },
  {
   "cell_type": "markdown",
   "metadata": {},
   "source": [
    "#### 4.2 Data Quality Checks\n",
    "\n",
    "Quality Checks have been executed during loading and exploring the data and in the ETL pipeline functions. \n",
    "\n",
    "* <u>Demographic Data</u>\\\n",
    "Check for empty cells. Check if result contain all 40m datasets\n",
    "\n",
    "* <u>Immigration data</u>\\\n",
    "Aggregate all given data to one dataframe. Remove columns not available in all datasets.\n",
    "\n",
    "* <u>Airport Codes</u>\\\n",
    "Filter for US airports with valid state code."
   ]
  },
  {
   "cell_type": "markdown",
   "metadata": {},
   "source": [
    "#### 4.3 Data dictionary \n",
    "\n",
    "##### 4.3.1 Immigration Data \n",
    "\n",
    "\n",
    "\n",
    "<table align=\"left\">\n",
    "<tr>\n",
    "    <th>Column</th><th>Description</th>\n",
    "    </tr>\n",
    "<tr>\n",
    "    <td>cicid</td><td>Unique record ID</td>\n",
    "</tr>\n",
    "<tr><td>i94yr</td><td>4 digit year</td></tr>\n",
    "<tr><td>ii94mon</td><td>Numeric month</td></tr>\n",
    "<tr><td>ii94cit</td><td>3 digit code for immigrant country of birth</td></tr>\n",
    "<tr><td>ii94res</td><td>3 digit code for immigrant country of residence</td></tr>\n",
    "<tr><td>ii94port</td><td>Port of admission</td></tr>\n",
    "<tr><td>iarrdate</td><td>Arrival Date in the USA</td></tr>\n",
    "<tr><td>ii94mode</td><td>Mode of transportation (1 = Air; 2 = Sea; 3 = Land; 9 = Not reported)\\</td></tr>\n",
    "<tr><td>ii94addr</td><td>USA State of arrival</td></tr>\n",
    "<tr><td>idepdate</td><td>Departure Date from the USA</td></tr>\n",
    "<tr><td>ii94bir</td><td>Age of Respondent in Years</td></tr>\n",
    "<tr><td>ii94visa</td><td>Visa codes collapsed into three categories</td></tr>\n",
    "<tr><td>icount</td><td>Field used for summary statistics</td></tr>\n",
    "<tr><td>idtadfile</td><td>Character Date Field - Date added to I-94 Files</td></tr>\n",
    "<tr><td>ivisapost</td><td>Department of State where where Visa was issued</td></tr>\n",
    "<tr><td>ioccup</td><td>Occupation that will be performed in U.S</td></tr>\n",
    "<tr><td>ientdepa</td><td>Arrival Flag - admitted or paroled into the U.S.</td></tr>\n",
    "<tr><td>ientdepd</td><td>Departure Flag - Departed, lost I-94 or is deceased</td></tr>\n",
    "<tr><td>ientdepu</td><td>Update Flag - Either apprehended, overstayed, adjusted to perm residence</td></tr>\n",
    "<tr><td>imatflag</td><td>Match flag - Match of arrival and departure records</td></tr>\n",
    "<tr><td>ibiryear</td><td>4 digit year of birth</td></tr>\n",
    "<tr><td>idtaddto</td><td>Character Date Field - Date to which admitted to U.S. (allowed to stay until)</td></tr>\n",
    "<tr><td>igender</td><td>Non-immigrant sex</td></tr>\n",
    "<tr><td>iinsnum</td><td>INS number</td></tr>\n",
    "<tr><td>iairline</td><td>Airline used to arrive in U.S.</td></tr>\n",
    "<tr><td>iadmnum</td><td>Admission Number</td></tr>\n",
    "<tr><td>ifltno</td><td>Flight number of Airline used to arrive in U.S.</td></tr>\n",
    "<tr><td>ivisatype</td><td>Class of admission legally admitting the non-immigrant to temporarily stay in U.S.</td></tr>\n",
    "</table>\n"
   ]
  },
  {
   "cell_type": "markdown",
   "metadata": {},
   "source": [
    "##### 4.3.2 Demographic Data\n",
    "\n",
    "<table align=\"left\">\n",
    "      <tr>,\n",
    "        <th >Column</th>\n",
    "        <th >Description</th>\n",
    "      </tr>\n",
    "     <tr><td>City</td><td>City Name</td>\n",
    "     <tr><td>State</td><td>US State where the city is located</td>\n",
    "     <tr><td>Median Age</td><td>Median age of the population</td>\n",
    "     <tr><td>Male Population</td><td>Count of male population</td>\n",
    "     <tr><td>Female Population</td><td>Count of female population</td>\n",
    "     <tr><td>Total Population</td><td>Count of total population</td>\n",
    "     <tr><td>Number of Veterans</td><td>Count of total veterans</td>\n",
    "     <tr><td>Foreign born</td><td>Count of residents of the city that were not born in that city</td>\n",
    "     <tr><td>Average household Size</td><td>Average household size in the city</td>\n",
    "     <tr><td>State Code</td><td>2 character US State code</td>\n",
    "     <tr><td>Race</td><td>Respondent race</td></tr>\n",
    "    <tr><td>Count</td><td>Count of people of race</td></tr>\n",
    "         \n",
    "</table>\n"
   ]
  },
  {
   "cell_type": "markdown",
   "metadata": {},
   "source": [
    "#### Step 5: Complete Project Write Up\n",
    "* <u>choice of tools and technologies:</u>\n",
    "\n",
    "To get an overview of the data and run a few queries it seem sufficient to set up a Juniper note book and use python to explore the datasets. For quick access Spark is used to load the data and store in parquet format which allows quick load and save.\n",
    "\n",
    "* <u>update of data:</u>\n",
    "\n",
    "Immigration data should be updated every month because it is collected monthly.\n",
    "For demographic data it seem sufficient to be updated oncy a year or even less.\n"
   ]
  },
  {
   "cell_type": "markdown",
   "metadata": {},
   "source": [
    "#### If the data was increased by 100x:\n",
    "Spark scales very well horizontically. Set up spark cluster according to requirements regarding processing time."
   ]
  },
  {
   "cell_type": "markdown",
   "metadata": {},
   "source": [
    "#### The data populates a dashboard that must be updated on a daily basis by 7am every day.\n",
    "Use a scheduler like Airflow. Use the code form this note book to create a DAG and schedule it accordingly"
   ]
  },
  {
   "cell_type": "markdown",
   "metadata": {},
   "source": [
    "#### The database needed to be accessed by 100+ people.\n",
    "\n",
    "Set up a distributed database like Redshift to store the data permanently in fact and dimension tables."
   ]
  }
 ],
 "metadata": {
  "kernelspec": {
   "display_name": "Python 3",
   "language": "python",
   "name": "python3"
  },
  "language_info": {
   "codemirror_mode": {
    "name": "ipython",
    "version": 3
   },
   "file_extension": ".py",
   "mimetype": "text/x-python",
   "name": "python",
   "nbconvert_exporter": "python",
   "pygments_lexer": "ipython3",
   "version": "3.8.5"
  }
 },
 "nbformat": 4,
 "nbformat_minor": 4
}
