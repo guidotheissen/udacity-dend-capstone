{
 "cells": [
  {
   "cell_type": "markdown",
   "metadata": {
    "editable": true
   },
   "source": [
    "# US Immigration Statistics\n",
    "### Data Engineering Capstone Project\n",
    "\n",
    "#### Project Summary\n",
    "Based on the 2016 data of immigrations into the US we want to analyse to which cities in the US immigration took place and what characteristics these cities have regarding population and airport infrastructure.\n",
    "\n",
    "\n",
    "\n",
    "##### The project follows the following steps:\n",
    "* Step 1: Scope the Project and Gather Data\n",
    "* Step 2: Explore and Assess the Data\n",
    "* Step 3: Define the Data Model\n",
    "* Step 4: Run ETL to Model the Data\n",
    "* Step 5: Complete Project Write Up"
   ]
  },
  {
   "cell_type": "code",
   "execution_count": 83,
   "metadata": {
    "editable": true
   },
   "outputs": [],
   "source": [
    "# Do all imports and installs here\n",
    "import pandas as pd\n",
    "import glob\n",
    "from pyspark.sql import SparkSession\n",
    "from pyspark.sql import functions as sf\n",
    "from pyspark.sql.types import StringType, IntegerType, DoubleType, BooleanType, DateType\n",
    "from pyspark.sql.functions import concat, col, lit,udf\n",
    "import re\n",
    "import datetime as dt\n",
    "import quality_check_functions\n",
    "import etl\n",
    "import importlib\n",
    "from CodeUtilities import CodeUtilities\n",
    "importlib.reload(quality_check_functions)\n",
    "from quality_check_functions import performQualityChecks,check_existence\n",
    "importlib.reload(etl)\n",
    "from etl import process_city_data,process_country_codes,process_airport_data,process_state_codes,etl_immigrations_data, etl_demographics_data\n"
   ]
  },
  {
   "cell_type": "code",
   "execution_count": 9,
   "metadata": {
    "editable": true
   },
   "outputs": [],
   "source": [
    "spark = SparkSession.builder.\\\n",
    "config(\"spark.jars.repositories\", \"https://repos.spark-packages.org/\").\\\n",
    "config(\"spark.jars.packages\", \"saurfang:spark-sas7bdat:2.0.0-s_2.11\").\\\n",
    "enableHiveSupport().getOrCreate()"
   ]
  },
  {
   "cell_type": "markdown",
   "metadata": {
    "editable": true
   },
   "source": [
    "# Step 1: Scope the Project and Gather Data\n",
    "\n",
    "## Scope \n",
    "Create an ETL pipeline for US immigration data, demographic data of US cities and airports to allow queries on the relationship of these data sources and enable deeper analytics on the data.\n",
    "\n",
    "### Describe and Gather Data \n",
    "i94 Immigration Data : This data comes from the US National Tourism and Trade Office. This table is used for the fact table in this project.\n",
    "\n",
    "U.S. City Demographic Data us-cities-demographics. This dataset contains population details of all US Cities and census-designated places includes gender & race information. This data came from OpenSoft. The table is grouped by state to get aggregated statistics.¶\n",
    "\n",
    "Airport Codes is a simple table of airport codes and corresponding cities. The rows where IATA codes are available in the table are selected for this project. "
   ]
  },
  {
   "cell_type": "markdown",
   "metadata": {
    "editable": true
   },
   "source": [
    "# Step 2: Explore and Assess the Data"
   ]
  },
  {
   "cell_type": "markdown",
   "metadata": {
    "editable": true
   },
   "source": [
    "## Immigration Data"
   ]
  },
  {
   "cell_type": "code",
   "execution_count": 3,
   "metadata": {
    "editable": true
   },
   "outputs": [
    {
     "name": "stdout",
     "output_type": "stream",
     "text": [
      "['../../data/18-83510-I94-Data-2016/i94_apr16_sub.sas7bdat', '../../data/18-83510-I94-Data-2016/i94_sep16_sub.sas7bdat', '../../data/18-83510-I94-Data-2016/i94_nov16_sub.sas7bdat', '../../data/18-83510-I94-Data-2016/i94_mar16_sub.sas7bdat', '../../data/18-83510-I94-Data-2016/i94_jun16_sub.sas7bdat', '../../data/18-83510-I94-Data-2016/i94_aug16_sub.sas7bdat', '../../data/18-83510-I94-Data-2016/i94_may16_sub.sas7bdat', '../../data/18-83510-I94-Data-2016/i94_jan16_sub.sas7bdat', '../../data/18-83510-I94-Data-2016/i94_oct16_sub.sas7bdat', '../../data/18-83510-I94-Data-2016/i94_jul16_sub.sas7bdat', '../../data/18-83510-I94-Data-2016/i94_feb16_sub.sas7bdat', '../../data/18-83510-I94-Data-2016/i94_dec16_sub.sas7bdat']\n"
     ]
    }
   ],
   "source": [
    "print(glob.glob(\"../../data/*/*\"))"
   ]
  },
  {
   "cell_type": "markdown",
   "metadata": {
    "editable": true
   },
   "source": [
    "-> 12 files available, one for each month in 2016."
   ]
  },
  {
   "cell_type": "code",
   "execution_count": 86,
   "metadata": {
    "editable": true
   },
   "outputs": [
    {
     "name": "stdout",
     "output_type": "stream",
     "text": [
      "root\n",
      " |-- cicid: double (nullable = true)\n",
      " |-- i94yr: double (nullable = true)\n",
      " |-- i94mon: double (nullable = true)\n",
      " |-- i94cit: double (nullable = true)\n",
      " |-- i94res: double (nullable = true)\n",
      " |-- i94port: string (nullable = true)\n",
      " |-- arrdate: double (nullable = true)\n",
      " |-- i94mode: double (nullable = true)\n",
      " |-- i94addr: string (nullable = true)\n",
      " |-- depdate: double (nullable = true)\n",
      " |-- i94bir: double (nullable = true)\n",
      " |-- i94visa: double (nullable = true)\n",
      " |-- count: double (nullable = true)\n",
      " |-- dtadfile: string (nullable = true)\n",
      " |-- visapost: string (nullable = true)\n",
      " |-- occup: string (nullable = true)\n",
      " |-- entdepa: string (nullable = true)\n",
      " |-- entdepd: string (nullable = true)\n",
      " |-- entdepu: string (nullable = true)\n",
      " |-- matflag: string (nullable = true)\n",
      " |-- biryear: double (nullable = true)\n",
      " |-- dtaddto: string (nullable = true)\n",
      " |-- gender: string (nullable = true)\n",
      " |-- insnum: string (nullable = true)\n",
      " |-- airline: string (nullable = true)\n",
      " |-- admnum: double (nullable = true)\n",
      " |-- fltno: string (nullable = true)\n",
      " |-- visatype: string (nullable = true)\n",
      "\n",
      "Rows: 3574989\n",
      "Reading file ../../data/18-83510-I94-Data-2016/i94_apr16_sub.sas7bdat\n",
      "Rows: 6671302\n",
      "Reading file ../../data/18-83510-I94-Data-2016/i94_sep16_sub.sas7bdat\n",
      "Rows: 10405088\n",
      "Reading file ../../data/18-83510-I94-Data-2016/i94_nov16_sub.sas7bdat\n",
      "Rows: 13320014\n",
      "Reading file ../../data/18-83510-I94-Data-2016/i94_mar16_sub.sas7bdat\n",
      "Rows: 16477086\n",
      "Reading file ../../data/18-83510-I94-Data-2016/i94_jun16_sub.sas7bdat\n",
      "Reading file ../../data/18-83510-I94-Data-2016/i94_aug16_sub.sas7bdat\n",
      "Rows: 20580656\n",
      "Reading file ../../data/18-83510-I94-Data-2016/i94_may16_sub.sas7bdat\n",
      "Rows: 24024905\n",
      "Reading file ../../data/18-83510-I94-Data-2016/i94_jan16_sub.sas7bdat\n",
      "Rows: 26872829\n",
      "Reading file ../../data/18-83510-I94-Data-2016/i94_oct16_sub.sas7bdat\n",
      "Rows: 30521965\n",
      "Reading file ../../data/18-83510-I94-Data-2016/i94_jul16_sub.sas7bdat\n",
      "Rows: 34786996\n",
      "Reading file ../../data/18-83510-I94-Data-2016/i94_feb16_sub.sas7bdat\n",
      "Rows: 37357539\n",
      "Reading file ../../data/18-83510-I94-Data-2016/i94_dec16_sub.sas7bdat\n",
      "Rows: 40790529\n",
      "The total number of columns in the data file are 28 and number of rows 40790529 \n",
      "Count of distinct number of rows 40790529 \n"
     ]
    }
   ],
   "source": [
    "df_spark = spark.read.format('com.github.saurfang.sas.spark').load('../../data/18-83510-I94-Data-2016/i94_jun16_sub.sas7bdat').drop('validres','delete_days','delete_mexl','delete_dup','delete_visa','delete_recdup')\n",
    "df_spark.printSchema()\n",
    "print(f\"Rows: {df_spark.count()}\")\n",
    "\n",
    "for file in glob.glob(\"../../data/*/*\"):\n",
    "    print('Reading file '+file)\n",
    "    if  '18-83510-I94-Data-2016/i94_jun16_sub.sas7bdat' not in file:\n",
    "        df_spark = df_spark.unionByName(spark.read.format('com.github.saurfang.sas.spark').load(file))\n",
    "        print(f\"Rows: {df_spark.count()}\")\n",
    "    \n",
    "#df_spark = spark.read.format('com.github.saurfang.sas.spark').load('../../data/18-83510-I94-Data-2016')\n",
    "columns_in_file=len(df_spark.columns)\n",
    "rows_in_file=df_spark.count()\n",
    "distinct_rows_data=df_spark.distinct().count()\n",
    "print(f\"The total number of columns in the data file are {columns_in_file} and number of rows {rows_in_file} \")\n",
    "print(f\"Count of distinct number of rows {distinct_rows_data} \")"
   ]
  },
  {
   "cell_type": "code",
   "execution_count": null,
   "metadata": {
    "editable": true
   },
   "outputs": [],
   "source": [
    "#write to parquet\n",
    "df_spark.write.parquet(\"all_sas_data\")\n",
    "df_spark=spark.read.parquet(\"all_sas_data\")"
   ]
  },
  {
   "cell_type": "markdown",
   "metadata": {
    "editable": true
   },
   "source": [
    "Over 40m entries in immigration data files!\n",
    "File from June contains additional columns to the other files. The columns were removed since they are not needed and hinder aggregation of the data."
   ]
  },
  {
   "cell_type": "markdown",
   "metadata": {
    "editable": true
   },
   "source": [
    "## US Cities demographic data"
   ]
  },
  {
   "cell_type": "code",
   "execution_count": 23,
   "metadata": {
    "editable": true
   },
   "outputs": [
    {
     "name": "stdout",
     "output_type": "stream",
     "text": [
      "<Not Empty> quality check passed for us-cities-demographics.csv with 2,891 records.\n",
      "<All lines loaded> quality check passed!\n",
      "<Check existence> quality check succeeeded\n"
     ]
    },
    {
     "data": {
      "text/html": [
       "<div>\n",
       "<style scoped>\n",
       "    .dataframe tbody tr th:only-of-type {\n",
       "        vertical-align: middle;\n",
       "    }\n",
       "\n",
       "    .dataframe tbody tr th {\n",
       "        vertical-align: top;\n",
       "    }\n",
       "\n",
       "    .dataframe thead th {\n",
       "        text-align: right;\n",
       "    }\n",
       "</style>\n",
       "<table border=\"1\" class=\"dataframe\">\n",
       "  <thead>\n",
       "    <tr style=\"text-align: right;\">\n",
       "      <th></th>\n",
       "      <th>City</th>\n",
       "      <th>State</th>\n",
       "      <th>Median Age</th>\n",
       "      <th>Male Population</th>\n",
       "      <th>Female Population</th>\n",
       "      <th>Total Population</th>\n",
       "      <th>Number of Veterans</th>\n",
       "      <th>Foreign-born</th>\n",
       "      <th>Average Household Size</th>\n",
       "      <th>state_code</th>\n",
       "      <th>Race</th>\n",
       "      <th>Count</th>\n",
       "    </tr>\n",
       "  </thead>\n",
       "  <tbody>\n",
       "    <tr>\n",
       "      <th>0</th>\n",
       "      <td>Silver Spring</td>\n",
       "      <td>Maryland</td>\n",
       "      <td>33.8</td>\n",
       "      <td>40601</td>\n",
       "      <td>41862</td>\n",
       "      <td>82463</td>\n",
       "      <td>1562</td>\n",
       "      <td>30908</td>\n",
       "      <td>2.60</td>\n",
       "      <td>MD</td>\n",
       "      <td>Hispanic or Latino</td>\n",
       "      <td>25924</td>\n",
       "    </tr>\n",
       "    <tr>\n",
       "      <th>1</th>\n",
       "      <td>Quincy</td>\n",
       "      <td>Massachusetts</td>\n",
       "      <td>41.0</td>\n",
       "      <td>44129</td>\n",
       "      <td>49500</td>\n",
       "      <td>93629</td>\n",
       "      <td>4147</td>\n",
       "      <td>32935</td>\n",
       "      <td>2.39</td>\n",
       "      <td>MA</td>\n",
       "      <td>White</td>\n",
       "      <td>58723</td>\n",
       "    </tr>\n",
       "    <tr>\n",
       "      <th>2</th>\n",
       "      <td>Hoover</td>\n",
       "      <td>Alabama</td>\n",
       "      <td>38.5</td>\n",
       "      <td>38040</td>\n",
       "      <td>46799</td>\n",
       "      <td>84839</td>\n",
       "      <td>4819</td>\n",
       "      <td>8229</td>\n",
       "      <td>2.58</td>\n",
       "      <td>AL</td>\n",
       "      <td>Asian</td>\n",
       "      <td>4759</td>\n",
       "    </tr>\n",
       "    <tr>\n",
       "      <th>3</th>\n",
       "      <td>Rancho Cucamonga</td>\n",
       "      <td>California</td>\n",
       "      <td>34.5</td>\n",
       "      <td>88127</td>\n",
       "      <td>87105</td>\n",
       "      <td>175232</td>\n",
       "      <td>5821</td>\n",
       "      <td>33878</td>\n",
       "      <td>3.18</td>\n",
       "      <td>CA</td>\n",
       "      <td>Black or African-American</td>\n",
       "      <td>24437</td>\n",
       "    </tr>\n",
       "    <tr>\n",
       "      <th>4</th>\n",
       "      <td>Newark</td>\n",
       "      <td>New Jersey</td>\n",
       "      <td>34.6</td>\n",
       "      <td>138040</td>\n",
       "      <td>143873</td>\n",
       "      <td>281913</td>\n",
       "      <td>5829</td>\n",
       "      <td>86253</td>\n",
       "      <td>2.73</td>\n",
       "      <td>NJ</td>\n",
       "      <td>White</td>\n",
       "      <td>76402</td>\n",
       "    </tr>\n",
       "  </tbody>\n",
       "</table>\n",
       "</div>"
      ],
      "text/plain": [
       "               City          State  Median Age  Male Population  \\\n",
       "0     Silver Spring       Maryland        33.8            40601   \n",
       "1            Quincy  Massachusetts        41.0            44129   \n",
       "2            Hoover        Alabama        38.5            38040   \n",
       "3  Rancho Cucamonga     California        34.5            88127   \n",
       "4            Newark     New Jersey        34.6           138040   \n",
       "\n",
       "   Female Population  Total Population  Number of Veterans  Foreign-born  \\\n",
       "0              41862             82463                1562         30908   \n",
       "1              49500             93629                4147         32935   \n",
       "2              46799             84839                4819          8229   \n",
       "3              87105            175232                5821         33878   \n",
       "4             143873            281913                5829         86253   \n",
       "\n",
       "   Average Household Size state_code                       Race  Count  \n",
       "0                    2.60         MD         Hispanic or Latino  25924  \n",
       "1                    2.39         MA                      White  58723  \n",
       "2                    2.58         AL                      Asian   4759  \n",
       "3                    3.18         CA  Black or African-American  24437  \n",
       "4                    2.73         NJ                      White  76402  "
      ]
     },
     "execution_count": 23,
     "metadata": {},
     "output_type": "execute_result"
    }
   ],
   "source": [
    "file_name = \"us-cities-demographics.csv\"\n",
    "demographics_df = spark.read.csv(file_name, inferSchema=True, header=True, sep=';')\n",
    "\n",
    "performQualityChecks(demographics_df, file_name, True)\n",
    "demographics_df = demographics_df.withColumnRenamed('State Code', 'state_code')\n",
    "check_existence(demographics_df, '((City=\\'Silver Spring\\') AND (state_code=\\'MD\\'))')\n",
    "demographics_df.createOrReplaceTempView('demographics')\n",
    "result = spark.sql(\"SELECT count(*) as result FROM demographics where City = 'Silver Spring' and state_code = 'MD'\")\n",
    "result.collect()[0][0]\n",
    "# display the first five records\n",
    "demographics_df.limit(4).toPandas()\n"
   ]
  },
  {
   "cell_type": "markdown",
   "metadata": {
    "editable": true
   },
   "source": [
    "Let's look at the data for one city:"
   ]
  },
  {
   "cell_type": "code",
   "execution_count": 24,
   "metadata": {
    "editable": true
   },
   "outputs": [
    {
     "data": {
      "text/html": [
       "<div>\n",
       "<style scoped>\n",
       "    .dataframe tbody tr th:only-of-type {\n",
       "        vertical-align: middle;\n",
       "    }\n",
       "\n",
       "    .dataframe tbody tr th {\n",
       "        vertical-align: top;\n",
       "    }\n",
       "\n",
       "    .dataframe thead th {\n",
       "        text-align: right;\n",
       "    }\n",
       "</style>\n",
       "<table border=\"1\" class=\"dataframe\">\n",
       "  <thead>\n",
       "    <tr style=\"text-align: right;\">\n",
       "      <th></th>\n",
       "      <th>City</th>\n",
       "      <th>State</th>\n",
       "      <th>Median Age</th>\n",
       "      <th>Male Population</th>\n",
       "      <th>Female Population</th>\n",
       "      <th>Total Population</th>\n",
       "      <th>Number of Veterans</th>\n",
       "      <th>Foreign-born</th>\n",
       "      <th>Average Household Size</th>\n",
       "      <th>state_code</th>\n",
       "      <th>Race</th>\n",
       "      <th>Count</th>\n",
       "    </tr>\n",
       "  </thead>\n",
       "  <tbody>\n",
       "    <tr>\n",
       "      <th>0</th>\n",
       "      <td>Silver Spring</td>\n",
       "      <td>Maryland</td>\n",
       "      <td>33.8</td>\n",
       "      <td>40601</td>\n",
       "      <td>41862</td>\n",
       "      <td>82463</td>\n",
       "      <td>1562</td>\n",
       "      <td>30908</td>\n",
       "      <td>2.6</td>\n",
       "      <td>MD</td>\n",
       "      <td>Hispanic or Latino</td>\n",
       "      <td>25924</td>\n",
       "    </tr>\n",
       "    <tr>\n",
       "      <th>1</th>\n",
       "      <td>Silver Spring</td>\n",
       "      <td>Maryland</td>\n",
       "      <td>33.8</td>\n",
       "      <td>40601</td>\n",
       "      <td>41862</td>\n",
       "      <td>82463</td>\n",
       "      <td>1562</td>\n",
       "      <td>30908</td>\n",
       "      <td>2.6</td>\n",
       "      <td>MD</td>\n",
       "      <td>White</td>\n",
       "      <td>37756</td>\n",
       "    </tr>\n",
       "    <tr>\n",
       "      <th>2</th>\n",
       "      <td>Silver Spring</td>\n",
       "      <td>Maryland</td>\n",
       "      <td>33.8</td>\n",
       "      <td>40601</td>\n",
       "      <td>41862</td>\n",
       "      <td>82463</td>\n",
       "      <td>1562</td>\n",
       "      <td>30908</td>\n",
       "      <td>2.6</td>\n",
       "      <td>MD</td>\n",
       "      <td>Black or African-American</td>\n",
       "      <td>21330</td>\n",
       "    </tr>\n",
       "    <tr>\n",
       "      <th>3</th>\n",
       "      <td>Silver Spring</td>\n",
       "      <td>Maryland</td>\n",
       "      <td>33.8</td>\n",
       "      <td>40601</td>\n",
       "      <td>41862</td>\n",
       "      <td>82463</td>\n",
       "      <td>1562</td>\n",
       "      <td>30908</td>\n",
       "      <td>2.6</td>\n",
       "      <td>MD</td>\n",
       "      <td>American Indian and Alaska Native</td>\n",
       "      <td>1084</td>\n",
       "    </tr>\n",
       "    <tr>\n",
       "      <th>4</th>\n",
       "      <td>Silver Spring</td>\n",
       "      <td>Maryland</td>\n",
       "      <td>33.8</td>\n",
       "      <td>40601</td>\n",
       "      <td>41862</td>\n",
       "      <td>82463</td>\n",
       "      <td>1562</td>\n",
       "      <td>30908</td>\n",
       "      <td>2.6</td>\n",
       "      <td>MD</td>\n",
       "      <td>Asian</td>\n",
       "      <td>8841</td>\n",
       "    </tr>\n",
       "  </tbody>\n",
       "</table>\n",
       "</div>"
      ],
      "text/plain": [
       "            City     State  Median Age  Male Population  Female Population  \\\n",
       "0  Silver Spring  Maryland        33.8            40601              41862   \n",
       "1  Silver Spring  Maryland        33.8            40601              41862   \n",
       "2  Silver Spring  Maryland        33.8            40601              41862   \n",
       "3  Silver Spring  Maryland        33.8            40601              41862   \n",
       "4  Silver Spring  Maryland        33.8            40601              41862   \n",
       "\n",
       "   Total Population  Number of Veterans  Foreign-born  Average Household Size  \\\n",
       "0             82463                1562         30908                     2.6   \n",
       "1             82463                1562         30908                     2.6   \n",
       "2             82463                1562         30908                     2.6   \n",
       "3             82463                1562         30908                     2.6   \n",
       "4             82463                1562         30908                     2.6   \n",
       "\n",
       "  state_code                               Race  Count  \n",
       "0         MD                 Hispanic or Latino  25924  \n",
       "1         MD                              White  37756  \n",
       "2         MD          Black or African-American  21330  \n",
       "3         MD  American Indian and Alaska Native   1084  \n",
       "4         MD                              Asian   8841  "
      ]
     },
     "execution_count": 24,
     "metadata": {},
     "output_type": "execute_result"
    }
   ],
   "source": [
    "demographics_df.filter('City == \\'Silver Spring\\'').toPandas()"
   ]
  },
  {
   "cell_type": "markdown",
   "metadata": {
    "editable": true
   },
   "source": [
    "Data set contains one row per city per race living in the city. \n",
    "Let's check how man different races are available:"
   ]
  },
  {
   "cell_type": "code",
   "execution_count": 25,
   "metadata": {
    "editable": true
   },
   "outputs": [
    {
     "name": "stdout",
     "output_type": "stream",
     "text": [
      "+--------------------+\n",
      "|                Race|\n",
      "+--------------------+\n",
      "|Black or African-...|\n",
      "|  Hispanic or Latino|\n",
      "|               White|\n",
      "|               Asian|\n",
      "|American Indian a...|\n",
      "+--------------------+\n",
      "\n"
     ]
    }
   ],
   "source": [
    "demographics_df.select('Race').distinct().show()"
   ]
  },
  {
   "cell_type": "markdown",
   "metadata": {
    "editable": true
   },
   "source": [
    "The data is available for five different races."
   ]
  },
  {
   "cell_type": "markdown",
   "metadata": {
    "editable": true
   },
   "source": [
    "## Airport Codes (incl. IATA codes)"
   ]
  },
  {
   "cell_type": "markdown",
   "metadata": {
    "editable": true
   },
   "source": [
    "Filter US airports with IATA code"
   ]
  },
  {
   "cell_type": "code",
   "execution_count": 26,
   "metadata": {
    "editable": true
   },
   "outputs": [
    {
     "name": "stdout",
     "output_type": "stream",
     "text": [
      "<Not Empty> quality check passed for airport-codes_csv.csv with 55,075 records.\n",
      "<All lines loaded> quality check passed!\n",
      "<Not Empty> quality check passed for city_codes.txt with 526 records.\n",
      "<All lines loaded> quality check NOT passed! Number of lines: 533, number of rows: 526\n"
     ]
    },
    {
     "data": {
      "text/html": [
       "<div>\n",
       "<style scoped>\n",
       "    .dataframe tbody tr th:only-of-type {\n",
       "        vertical-align: middle;\n",
       "    }\n",
       "\n",
       "    .dataframe tbody tr th {\n",
       "        vertical-align: top;\n",
       "    }\n",
       "\n",
       "    .dataframe thead th {\n",
       "        text-align: right;\n",
       "    }\n",
       "</style>\n",
       "<table border=\"1\" class=\"dataframe\">\n",
       "  <thead>\n",
       "    <tr style=\"text-align: right;\">\n",
       "      <th></th>\n",
       "      <th>ident</th>\n",
       "      <th>type</th>\n",
       "      <th>name</th>\n",
       "      <th>elevation_ft</th>\n",
       "      <th>continent</th>\n",
       "      <th>iso_country</th>\n",
       "      <th>iso_region</th>\n",
       "      <th>municipality</th>\n",
       "      <th>gps_code</th>\n",
       "      <th>iata_code</th>\n",
       "      <th>local_code</th>\n",
       "      <th>coordinates</th>\n",
       "      <th>state_code</th>\n",
       "      <th>city_code</th>\n",
       "    </tr>\n",
       "  </thead>\n",
       "  <tbody>\n",
       "    <tr>\n",
       "      <th>0</th>\n",
       "      <td>07FA</td>\n",
       "      <td>small_airport</td>\n",
       "      <td>Ocean Reef Club Airport</td>\n",
       "      <td>8</td>\n",
       "      <td>NA</td>\n",
       "      <td>US</td>\n",
       "      <td>US-FL</td>\n",
       "      <td>Key Largo</td>\n",
       "      <td>07FA</td>\n",
       "      <td>OCA</td>\n",
       "      <td>07FA</td>\n",
       "      <td>-80.274803161621, 25.325399398804</td>\n",
       "      <td>FL</td>\n",
       "      <td>000</td>\n",
       "    </tr>\n",
       "    <tr>\n",
       "      <th>1</th>\n",
       "      <td>0AK</td>\n",
       "      <td>small_airport</td>\n",
       "      <td>Pilot Station Airport</td>\n",
       "      <td>305</td>\n",
       "      <td>NA</td>\n",
       "      <td>US</td>\n",
       "      <td>US-AK</td>\n",
       "      <td>Pilot Station</td>\n",
       "      <td>None</td>\n",
       "      <td>PQS</td>\n",
       "      <td>0AK</td>\n",
       "      <td>-162.899994, 61.934601</td>\n",
       "      <td>AK</td>\n",
       "      <td>000</td>\n",
       "    </tr>\n",
       "    <tr>\n",
       "      <th>2</th>\n",
       "      <td>0CO2</td>\n",
       "      <td>small_airport</td>\n",
       "      <td>Crested Butte Airpark</td>\n",
       "      <td>8980</td>\n",
       "      <td>NA</td>\n",
       "      <td>US</td>\n",
       "      <td>US-CO</td>\n",
       "      <td>Crested Butte</td>\n",
       "      <td>0CO2</td>\n",
       "      <td>CSE</td>\n",
       "      <td>0CO2</td>\n",
       "      <td>-106.928341, 38.851918</td>\n",
       "      <td>CO</td>\n",
       "      <td>000</td>\n",
       "    </tr>\n",
       "    <tr>\n",
       "      <th>3</th>\n",
       "      <td>0TE7</td>\n",
       "      <td>small_airport</td>\n",
       "      <td>LBJ Ranch Airport</td>\n",
       "      <td>1515</td>\n",
       "      <td>NA</td>\n",
       "      <td>US</td>\n",
       "      <td>US-TX</td>\n",
       "      <td>Johnson City</td>\n",
       "      <td>0TE7</td>\n",
       "      <td>JCY</td>\n",
       "      <td>0TE7</td>\n",
       "      <td>-98.62249755859999, 30.251800537100003</td>\n",
       "      <td>TX</td>\n",
       "      <td>000</td>\n",
       "    </tr>\n",
       "    <tr>\n",
       "      <th>4</th>\n",
       "      <td>13MA</td>\n",
       "      <td>small_airport</td>\n",
       "      <td>Metropolitan Airport</td>\n",
       "      <td>418</td>\n",
       "      <td>NA</td>\n",
       "      <td>US</td>\n",
       "      <td>US-MA</td>\n",
       "      <td>Palmer</td>\n",
       "      <td>13MA</td>\n",
       "      <td>PMX</td>\n",
       "      <td>13MA</td>\n",
       "      <td>-72.31140136719999, 42.223300933800004</td>\n",
       "      <td>MA</td>\n",
       "      <td>000</td>\n",
       "    </tr>\n",
       "  </tbody>\n",
       "</table>\n",
       "</div>"
      ],
      "text/plain": [
       "  ident           type                     name  elevation_ft continent  \\\n",
       "0  07FA  small_airport  Ocean Reef Club Airport             8        NA   \n",
       "1   0AK  small_airport    Pilot Station Airport           305        NA   \n",
       "2  0CO2  small_airport    Crested Butte Airpark          8980        NA   \n",
       "3  0TE7  small_airport        LBJ Ranch Airport          1515        NA   \n",
       "4  13MA  small_airport     Metropolitan Airport           418        NA   \n",
       "\n",
       "  iso_country iso_region   municipality gps_code iata_code local_code  \\\n",
       "0          US      US-FL      Key Largo     07FA       OCA       07FA   \n",
       "1          US      US-AK  Pilot Station     None       PQS        0AK   \n",
       "2          US      US-CO  Crested Butte     0CO2       CSE       0CO2   \n",
       "3          US      US-TX   Johnson City     0TE7       JCY       0TE7   \n",
       "4          US      US-MA         Palmer     13MA       PMX       13MA   \n",
       "\n",
       "                              coordinates state_code city_code  \n",
       "0       -80.274803161621, 25.325399398804         FL       000  \n",
       "1                  -162.899994, 61.934601         AK       000  \n",
       "2                  -106.928341, 38.851918         CO       000  \n",
       "3  -98.62249755859999, 30.251800537100003         TX       000  \n",
       "4  -72.31140136719999, 42.223300933800004         MA       000  "
      ]
     },
     "execution_count": 26,
     "metadata": {},
     "output_type": "execute_result"
    }
   ],
   "source": [
    "airports_df = process_airport_data(spark,\"airport-codes_csv.csv\")\n",
    "\n",
    "# display the first five records\n",
    "airports_df.limit(5).toPandas()\n"
   ]
  },
  {
   "cell_type": "markdown",
   "metadata": {
    "editable": true
   },
   "source": [
    "Let's habe a look at the differenct types of airports available:"
   ]
  },
  {
   "cell_type": "code",
   "execution_count": 27,
   "metadata": {
    "editable": true
   },
   "outputs": [
    {
     "data": {
      "text/plain": [
       "[Row(type='large_airport'),\n",
       " Row(type='seaplane_base'),\n",
       " Row(type='heliport'),\n",
       " Row(type='closed'),\n",
       " Row(type='medium_airport'),\n",
       " Row(type='small_airport')]"
      ]
     },
     "execution_count": 27,
     "metadata": {},
     "output_type": "execute_result"
    }
   ],
   "source": [
    "airports_df.select('type').distinct().collect()"
   ]
  },
  {
   "cell_type": "markdown",
   "metadata": {
    "editable": true
   },
   "source": [
    "And the amount of airports of each type:"
   ]
  },
  {
   "cell_type": "code",
   "execution_count": 28,
   "metadata": {
    "editable": true
   },
   "outputs": [
    {
     "name": "stdout",
     "output_type": "stream",
     "text": [
      "+--------------+-----+\n",
      "|          type|count|\n",
      "+--------------+-----+\n",
      "|        closed|   63|\n",
      "|      heliport|   19|\n",
      "| large_airport|  167|\n",
      "|medium_airport|  653|\n",
      "| seaplane_base|   72|\n",
      "| small_airport| 1045|\n",
      "+--------------+-----+\n",
      "\n"
     ]
    }
   ],
   "source": [
    "airports_df.groupBy(\"type\").count().orderBy(\"type\").show()"
   ]
  },
  {
   "cell_type": "code",
   "execution_count": 29,
   "metadata": {
    "editable": true
   },
   "outputs": [
    {
     "data": {
      "text/plain": [
       "2019"
      ]
     },
     "execution_count": 29,
     "metadata": {},
     "output_type": "execute_result"
    }
   ],
   "source": [
    "airports_df.count()"
   ]
  },
  {
   "cell_type": "markdown",
   "metadata": {
    "editable": true
   },
   "source": [
    "Since we want to combine the airports data on a geographic base, let's have a look what is given in this data set for the US (only interested in airports with IATA code):"
   ]
  },
  {
   "cell_type": "code",
   "execution_count": 30,
   "metadata": {
    "editable": true
   },
   "outputs": [
    {
     "name": "stdout",
     "output_type": "stream",
     "text": [
      "+-----------+----------+-----+\n",
      "|iso_country|iso_region|count|\n",
      "+-----------+----------+-----+\n",
      "|         US|     US-AK|  334|\n",
      "|         US|     US-AL|   30|\n",
      "|         US|     US-AR|   29|\n",
      "|         US|     US-AZ|   46|\n",
      "|         US|     US-CA|  157|\n",
      "+-----------+----------+-----+\n",
      "only showing top 5 rows\n",
      "\n"
     ]
    }
   ],
   "source": [
    "airports_df.filter(\"iso_country='US'\").filter(\"iata_code != 'none'\").groupBy(\"iso_country\",\"iso_region\").count().orderBy(\"iso_region\").show(5)"
   ]
  },
  {
   "cell_type": "markdown",
   "metadata": {
    "editable": true
   },
   "source": [
    "## Country codes extracted from I94_SAS_Labels_Descriptions.SAS"
   ]
  },
  {
   "cell_type": "code",
   "execution_count": 31,
   "metadata": {
    "editable": true
   },
   "outputs": [
    {
     "name": "stdout",
     "output_type": "stream",
     "text": [
      "<Not Empty> quality check passed for country_codes.txt with 236 records.\n",
      "<All lines loaded> quality check passed!\n"
     ]
    }
   ],
   "source": [
    "countries_df = process_country_codes(spark, 'country_codes.txt')"
   ]
  },
  {
   "cell_type": "code",
   "execution_count": 32,
   "metadata": {
    "editable": true
   },
   "outputs": [
    {
     "data": {
      "text/plain": [
       "[Row(country_code=582, country_name='MEXICO Air Sea, and Not Reported (I-94, no land arrivals)'),\n",
       " Row(country_code=236, country_name='AFGHANISTAN'),\n",
       " Row(country_code=101, country_name='ALBANIA'),\n",
       " Row(country_code=316, country_name='ALGERIA'),\n",
       " Row(country_code=102, country_name='ANDORRA')]"
      ]
     },
     "execution_count": 32,
     "metadata": {},
     "output_type": "execute_result"
    }
   ],
   "source": [
    "countries_df.head(5)"
   ]
  },
  {
   "cell_type": "markdown",
   "metadata": {
    "editable": true
   },
   "source": [
    "## City codes extracted from I94_SAS_Labels_Descriptions.SAS"
   ]
  },
  {
   "cell_type": "code",
   "execution_count": 90,
   "metadata": {
    "editable": true
   },
   "outputs": [
    {
     "name": "stdout",
     "output_type": "stream",
     "text": [
      "<Not Empty> quality check passed for city_codes.txt with 526 records.\n",
      "<All lines loaded> quality check NOT passed! Number of lines: 533, number of rows: 526\n"
     ]
    }
   ],
   "source": [
    "us_cities_df = process_city_data(spark, 'city_codes.txt')"
   ]
  },
  {
   "cell_type": "markdown",
   "metadata": {
    "editable": true
   },
   "source": [
    "## US state codes extracted from I94_SAS_Labels_Descriptions.SAS"
   ]
  },
  {
   "cell_type": "code",
   "execution_count": 40,
   "metadata": {
    "editable": true
   },
   "outputs": [
    {
     "name": "stdout",
     "output_type": "stream",
     "text": [
      "<Not Empty> quality check passed for us_state_codes.txt with 55 records.\n",
      "<All lines loaded> quality check passed!\n"
     ]
    }
   ],
   "source": [
    "us_states_df = process_state_codes(spark, 'us_state_codes.txt')\n"
   ]
  },
  {
   "cell_type": "markdown",
   "metadata": {
    "editable": true
   },
   "source": [
    "## Demographics Data"
   ]
  },
  {
   "cell_type": "code",
   "execution_count": 34,
   "metadata": {
    "editable": true
   },
   "outputs": [
    {
     "name": "stdout",
     "output_type": "stream",
     "text": [
      "Null data in City? : False\n",
      "Null data in State? : False\n",
      "Null data in Median Age? : False\n",
      "Null data in Male Population? : True\n",
      "Null data in Female Population? : True\n",
      "Null data in Total Population? : False\n",
      "Null data in Number of Veterans? : True\n",
      "Null data in Foreign-born? : True\n",
      "Null data in Average Household Size? : True\n",
      "Null data in state_code? : False\n",
      "Null data in Race? : False\n",
      "Null data in Count? : False\n"
     ]
    }
   ],
   "source": [
    "demographics_pd = demographics_df.toPandas()\n",
    "\n",
    "for column in demographics_pd.columns:\n",
    "    print(f\"Null data in {column}? : {any(demographics_pd[column].isnull())}\")"
   ]
  },
  {
   "cell_type": "markdown",
   "metadata": {
    "editable": true
   },
   "source": [
    "Empty cells only in non relevant columns."
   ]
  },
  {
   "cell_type": "code",
   "execution_count": 35,
   "metadata": {
    "editable": true
   },
   "outputs": [
    {
     "data": {
      "text/plain": [
       "16"
      ]
     },
     "execution_count": 35,
     "metadata": {},
     "output_type": "execute_result"
    }
   ],
   "source": [
    "demographics_pd.shape[0] - demographics_pd.dropna().shape[0]"
   ]
  },
  {
   "cell_type": "code",
   "execution_count": 36,
   "metadata": {
    "editable": true
   },
   "outputs": [
    {
     "data": {
      "text/plain": [
       "(2891, 12)"
      ]
     },
     "execution_count": 36,
     "metadata": {},
     "output_type": "execute_result"
    }
   ],
   "source": [
    "demographics_pd.shape"
   ]
  },
  {
   "cell_type": "markdown",
   "metadata": {
    "editable": true
   },
   "source": [
    "Only 16 rows from 2891 are missing values! No problem!\n"
   ]
  },
  {
   "cell_type": "code",
   "execution_count": 92,
   "metadata": {
    "editable": true
   },
   "outputs": [
    {
     "data": {
      "text/plain": [
       "571"
      ]
     },
     "execution_count": 92,
     "metadata": {},
     "output_type": "execute_result"
    }
   ],
   "source": [
    "us_cities_pd = us_cities_df.toPandas() \n",
    "    \n",
    "def getCityCode(s, sc):\n",
    "    try:\n",
    "        result = \\\n",
    "                us_cities_pd.loc[(us_cities_pd['name'] == s.upper()) & (us_cities_pd['state_code'] == sc)]['code'].iloc[0]\n",
    "    except Exception:\n",
    "        result = '000'\n",
    "    return result\n",
    "\n",
    "    \n",
    "getCityCodeUDF = udf(lambda c,sc: getCityCode(c,sc), StringType())\n",
    "\n",
    "demographics_df = demographics_df.withColumn(\"city_code\", getCityCodeUDF(sf.col(\"City\"), sf.col(\"state_code\")))\n",
    "demographics_df.filter(\"city_code != '000'\").count()"
   ]
  },
  {
   "cell_type": "markdown",
   "metadata": {
    "editable": true
   },
   "source": [
    "Found 571 US cities in the given demographic data and in SAS data. Let's focus on these cities!"
   ]
  },
  {
   "cell_type": "markdown",
   "metadata": {
    "editable": true
   },
   "source": [
    "## US airports"
   ]
  },
  {
   "cell_type": "code",
   "execution_count": 93,
   "metadata": {
    "editable": true
   },
   "outputs": [
    {
     "data": {
      "text/plain": [
       "324"
      ]
     },
     "execution_count": 93,
     "metadata": {},
     "output_type": "execute_result"
    }
   ],
   "source": [
    "getCityCodeUDF = udf(lambda c,sc: getCityCode(c,sc), StringType())\n",
    "\n",
    "airports_df = airports_df.withColumn(\"city_code\", getCityCodeUDF(sf.col(\"municipality\"), sf.col(\"state_code\")))\n",
    "airports_df.filter(\"city_code != '000'\").count()\n"
   ]
  },
  {
   "cell_type": "markdown",
   "metadata": {
    "editable": true
   },
   "source": [
    "Found 324 airports in cities of the cities data set"
   ]
  },
  {
   "cell_type": "code",
   "execution_count": 63,
   "metadata": {
    "editable": true
   },
   "outputs": [
    {
     "data": {
      "text/plain": [
       "[Row(ident='4Z7', type='seaplane_base', name='Hyder Seaplane Base', elevation_ft=None, continent='NA', iso_country='US', iso_region='US-AK', municipality='Hyder', gps_code=None, iata_code='WHD', local_code='4Z7', coordinates='-130.009975, 55.903324', state_code='AK', city_code='HYD'),\n",
       " Row(ident='57A', type='seaplane_base', name='Tokeen Seaplane Base', elevation_ft=None, continent='NA', iso_country='US', iso_region='US-AK', municipality='Tokeen', gps_code='57A', iata_code='TKI', local_code='57A', coordinates='-133.32699585, 55.9370994568', state_code='AK', city_code='TKI'),\n",
       " Row(ident='5KE', type='seaplane_base', name='Ketchikan Harbor Seaplane Base', elevation_ft=None, continent='NA', iso_country='US', iso_region='US-AK', municipality='Ketchikan', gps_code=None, iata_code='WFB', local_code='5KE', coordinates='-131.677002, 55.349899', state_code='AK', city_code='5KE'),\n",
       " Row(ident='6CA3', type='heliport', name='Catalina Air-Sea Terminal Heliport', elevation_ft=5, continent='NA', iso_country='US', iso_region='US-CA', municipality='San Pedro', gps_code='6CA3', iata_code='SPQ', local_code='6CA3', coordinates='-118.275001526, 33.7491989136', state_code='CA', city_code='SPC'),\n",
       " Row(ident='6N5', type='heliport', name='East 34th Street Heliport', elevation_ft=10, continent='NA', iso_country='US', iso_region='US-NY', municipality='New York', gps_code='6N5', iata_code='TSS', local_code='6N5', coordinates='-73.97209930419922, 40.74259948730469', state_code='NY', city_code='NYC')]"
      ]
     },
     "execution_count": 63,
     "metadata": {},
     "output_type": "execute_result"
    }
   ],
   "source": [
    "airports_df.filter(\"city_code != '000'\").head(5)"
   ]
  },
  {
   "cell_type": "markdown",
   "metadata": {
    "editable": true
   },
   "source": [
    "# Step 3: Define the Data Model\n",
    "## 3.1 Conceptual Data Model\n",
    "Correlation between demographic data and immigration data is evaluated based on the city code. The code must be calculated and added to the demographic data set and the airport dataset. To have a more robust mapping the city code is calculated on the city's name and the US state code.\n",
    "\n",
    "## 3.2 Mapping Out Data Pipelines\n",
    "Build spark views from the explored dataframes to allow easy queuing on the data."
   ]
  },
  {
   "cell_type": "markdown",
   "metadata": {
    "editable": true
   },
   "source": [
    "# Step 4: Run Pipelines to Model the Data \n",
    "## 4.1 Create the data model\n",
    "Build the data pipelines to create the data model."
   ]
  },
  {
   "cell_type": "markdown",
   "metadata": {
    "editable": true
   },
   "source": [
    "### US Airports"
   ]
  },
  {
   "cell_type": "code",
   "execution_count": 64,
   "metadata": {
    "editable": true
   },
   "outputs": [
    {
     "name": "stdout",
     "output_type": "stream",
     "text": [
      "<Not Empty> quality check passed for airport-codes_csv.csv with 55,075 records.\n",
      "<All lines loaded> quality check passed!\n",
      "<Not Empty> quality check passed for city_codes.txt with 526 records.\n",
      "<All lines loaded> quality check NOT passed! Number of lines: 533, number of rows: 526\n"
     ]
    }
   ],
   "source": [
    "us_airports_df = process_airport_data(spark, 'airport-codes_csv.csv')"
   ]
  },
  {
   "cell_type": "markdown",
   "metadata": {
    "editable": true
   },
   "source": [
    "### Immigration Data"
   ]
  },
  {
   "cell_type": "code",
   "execution_count": 67,
   "metadata": {
    "editable": true
   },
   "outputs": [
    {
     "data": {
      "text/html": [
       "<div>\n",
       "<style scoped>\n",
       "    .dataframe tbody tr th:only-of-type {\n",
       "        vertical-align: middle;\n",
       "    }\n",
       "\n",
       "    .dataframe tbody tr th {\n",
       "        vertical-align: top;\n",
       "    }\n",
       "\n",
       "    .dataframe thead th {\n",
       "        text-align: right;\n",
       "    }\n",
       "</style>\n",
       "<table border=\"1\" class=\"dataframe\">\n",
       "  <thead>\n",
       "    <tr style=\"text-align: right;\">\n",
       "      <th></th>\n",
       "      <th>visatype</th>\n",
       "      <th>count(1)</th>\n",
       "    </tr>\n",
       "  </thead>\n",
       "  <tbody>\n",
       "    <tr>\n",
       "      <th>0</th>\n",
       "      <td>F2</td>\n",
       "      <td>2984</td>\n",
       "    </tr>\n",
       "    <tr>\n",
       "      <th>1</th>\n",
       "      <td>GMB</td>\n",
       "      <td>150</td>\n",
       "    </tr>\n",
       "    <tr>\n",
       "      <th>2</th>\n",
       "      <td>B2</td>\n",
       "      <td>1117897</td>\n",
       "    </tr>\n",
       "    <tr>\n",
       "      <th>3</th>\n",
       "      <td>F1</td>\n",
       "      <td>39016</td>\n",
       "    </tr>\n",
       "    <tr>\n",
       "      <th>4</th>\n",
       "      <td>CPL</td>\n",
       "      <td>10</td>\n",
       "    </tr>\n",
       "    <tr>\n",
       "      <th>5</th>\n",
       "      <td>I1</td>\n",
       "      <td>234</td>\n",
       "    </tr>\n",
       "    <tr>\n",
       "      <th>6</th>\n",
       "      <td>WB</td>\n",
       "      <td>282983</td>\n",
       "    </tr>\n",
       "    <tr>\n",
       "      <th>7</th>\n",
       "      <td>M1</td>\n",
       "      <td>1317</td>\n",
       "    </tr>\n",
       "    <tr>\n",
       "      <th>8</th>\n",
       "      <td>B1</td>\n",
       "      <td>212410</td>\n",
       "    </tr>\n",
       "    <tr>\n",
       "      <th>9</th>\n",
       "      <td>WT</td>\n",
       "      <td>1309059</td>\n",
       "    </tr>\n",
       "    <tr>\n",
       "      <th>10</th>\n",
       "      <td>M2</td>\n",
       "      <td>49</td>\n",
       "    </tr>\n",
       "    <tr>\n",
       "      <th>11</th>\n",
       "      <td>CP</td>\n",
       "      <td>14758</td>\n",
       "    </tr>\n",
       "    <tr>\n",
       "      <th>12</th>\n",
       "      <td>GMT</td>\n",
       "      <td>89133</td>\n",
       "    </tr>\n",
       "    <tr>\n",
       "      <th>13</th>\n",
       "      <td>E1</td>\n",
       "      <td>3743</td>\n",
       "    </tr>\n",
       "    <tr>\n",
       "      <th>14</th>\n",
       "      <td>I</td>\n",
       "      <td>3176</td>\n",
       "    </tr>\n",
       "    <tr>\n",
       "      <th>15</th>\n",
       "      <td>E2</td>\n",
       "      <td>19383</td>\n",
       "    </tr>\n",
       "    <tr>\n",
       "      <th>16</th>\n",
       "      <td>SBP</td>\n",
       "      <td>11</td>\n",
       "    </tr>\n",
       "  </tbody>\n",
       "</table>\n",
       "</div>"
      ],
      "text/plain": [
       "   visatype  count(1)\n",
       "0        F2      2984\n",
       "1       GMB       150\n",
       "2        B2   1117897\n",
       "3        F1     39016\n",
       "4       CPL        10\n",
       "5        I1       234\n",
       "6        WB    282983\n",
       "7        M1      1317\n",
       "8        B1    212410\n",
       "9        WT   1309059\n",
       "10       M2        49\n",
       "11       CP     14758\n",
       "12      GMT     89133\n",
       "13       E1      3743\n",
       "14        I      3176\n",
       "15       E2     19383\n",
       "16      SBP        11"
      ]
     },
     "execution_count": 67,
     "metadata": {},
     "output_type": "execute_result"
    }
   ],
   "source": [
    "immigrations_table = etl_immigrations_data(spark, 'sas_data')\n",
    "immigrations_table.limit(20).toPandas()\n",
    "visatype = spark.sql(\"\"\" select visatype, count(*) from immigrations_table group by (visatype)\"\"\")\n",
    "visatype.toPandas()"
   ]
  },
  {
   "cell_type": "code",
   "execution_count": 68,
   "metadata": {
    "editable": true
   },
   "outputs": [
    {
     "name": "stdout",
     "output_type": "stream",
     "text": [
      "+--------+--------+-------+\n",
      "|visa    |visatype|count  |\n",
      "+--------+--------+-------+\n",
      "|business|B1      |212410 |\n",
      "|business|E1      |3743   |\n",
      "|business|E2      |19383  |\n",
      "|business|GMB     |150    |\n",
      "|business|I       |3176   |\n",
      "|business|I1      |234    |\n",
      "|business|WB      |282983 |\n",
      "|pleasure|B2      |1117897|\n",
      "|pleasure|CP      |14758  |\n",
      "|pleasure|CPL     |10     |\n",
      "|pleasure|GMT     |89133  |\n",
      "|pleasure|SBP     |11     |\n",
      "|pleasure|WT      |1309059|\n",
      "|student |F1      |39016  |\n",
      "|student |F2      |2984   |\n",
      "|student |M1      |1317   |\n",
      "|student |M2      |49     |\n",
      "+--------+--------+-------+\n",
      "\n"
     ]
    }
   ],
   "source": [
    "immigrations_table.groupBy(\"visa\",\"visatype\").count().orderBy(\"visa\",\"visatype\").show(truncate=False)\n"
   ]
  },
  {
   "cell_type": "markdown",
   "metadata": {
    "editable": true
   },
   "source": [
    "### Demographic Data"
   ]
  },
  {
   "cell_type": "code",
   "execution_count": 84,
   "metadata": {
    "editable": true
   },
   "outputs": [
    {
     "name": "stdout",
     "output_type": "stream",
     "text": [
      "<Not Empty> quality check passed for us-cities-demographics.csv with 2,891 records.\n",
      "<All lines loaded> quality check passed!\n",
      "<Check existence> quality check succeeeded\n",
      "<Not Empty> quality check passed for city_codes.txt with 526 records.\n",
      "<All lines loaded> quality check NOT passed! Number of lines: 533, number of rows: 526\n"
     ]
    }
   ],
   "source": [
    "demographics_table = etl_demographics_data(spark,\"us-cities-demographics.csv\")"
   ]
  },
  {
   "cell_type": "markdown",
   "metadata": {
    "editable": true
   },
   "source": [
    "Join immigration data with demographics data and countries table"
   ]
  },
  {
   "cell_type": "code",
   "execution_count": 85,
   "metadata": {
    "editable": true
   },
   "outputs": [
    {
     "data": {
      "text/html": [
       "<div>\n",
       "<style scoped>\n",
       "    .dataframe tbody tr th:only-of-type {\n",
       "        vertical-align: middle;\n",
       "    }\n",
       "\n",
       "    .dataframe tbody tr th {\n",
       "        vertical-align: top;\n",
       "    }\n",
       "\n",
       "    .dataframe thead th {\n",
       "        text-align: right;\n",
       "    }\n",
       "</style>\n",
       "<table border=\"1\" class=\"dataframe\">\n",
       "  <thead>\n",
       "    <tr style=\"text-align: right;\">\n",
       "      <th></th>\n",
       "      <th>year</th>\n",
       "      <th>month</th>\n",
       "      <th>origin_city</th>\n",
       "      <th>country_name</th>\n",
       "      <th>destination_city</th>\n",
       "      <th>arrival_date</th>\n",
       "      <th>visatype</th>\n",
       "      <th>visa</th>\n",
       "      <th>total_population</th>\n",
       "      <th>city</th>\n",
       "      <th>state</th>\n",
       "    </tr>\n",
       "  </thead>\n",
       "  <tbody>\n",
       "    <tr>\n",
       "      <th>0</th>\n",
       "      <td>2016.0</td>\n",
       "      <td>4.0</td>\n",
       "      <td>296</td>\n",
       "      <td>UNITED ARAB EMIRATES</td>\n",
       "      <td>NYC</td>\n",
       "      <td>2016-04-30</td>\n",
       "      <td>B2</td>\n",
       "      <td>pleasure</td>\n",
       "      <td>None</td>\n",
       "      <td>None</td>\n",
       "      <td>None</td>\n",
       "    </tr>\n",
       "    <tr>\n",
       "      <th>1</th>\n",
       "      <td>2016.0</td>\n",
       "      <td>4.0</td>\n",
       "      <td>296</td>\n",
       "      <td>UNITED ARAB EMIRATES</td>\n",
       "      <td>DAL</td>\n",
       "      <td>2016-04-30</td>\n",
       "      <td>B2</td>\n",
       "      <td>pleasure</td>\n",
       "      <td>None</td>\n",
       "      <td>None</td>\n",
       "      <td>None</td>\n",
       "    </tr>\n",
       "    <tr>\n",
       "      <th>2</th>\n",
       "      <td>2016.0</td>\n",
       "      <td>4.0</td>\n",
       "      <td>296</td>\n",
       "      <td>UNITED ARAB EMIRATES</td>\n",
       "      <td>DAL</td>\n",
       "      <td>2016-04-30</td>\n",
       "      <td>B2</td>\n",
       "      <td>pleasure</td>\n",
       "      <td>None</td>\n",
       "      <td>None</td>\n",
       "      <td>None</td>\n",
       "    </tr>\n",
       "    <tr>\n",
       "      <th>3</th>\n",
       "      <td>2016.0</td>\n",
       "      <td>4.0</td>\n",
       "      <td>296</td>\n",
       "      <td>UNITED ARAB EMIRATES</td>\n",
       "      <td>DAL</td>\n",
       "      <td>2016-04-30</td>\n",
       "      <td>B2</td>\n",
       "      <td>pleasure</td>\n",
       "      <td>None</td>\n",
       "      <td>None</td>\n",
       "      <td>None</td>\n",
       "    </tr>\n",
       "    <tr>\n",
       "      <th>4</th>\n",
       "      <td>2016.0</td>\n",
       "      <td>4.0</td>\n",
       "      <td>296</td>\n",
       "      <td>UNITED ARAB EMIRATES</td>\n",
       "      <td>HOU</td>\n",
       "      <td>2016-04-30</td>\n",
       "      <td>B1</td>\n",
       "      <td>business</td>\n",
       "      <td>None</td>\n",
       "      <td>None</td>\n",
       "      <td>None</td>\n",
       "    </tr>\n",
       "    <tr>\n",
       "      <th>5</th>\n",
       "      <td>2016.0</td>\n",
       "      <td>4.0</td>\n",
       "      <td>296</td>\n",
       "      <td>UNITED ARAB EMIRATES</td>\n",
       "      <td>NYC</td>\n",
       "      <td>2016-04-29</td>\n",
       "      <td>B2</td>\n",
       "      <td>pleasure</td>\n",
       "      <td>None</td>\n",
       "      <td>None</td>\n",
       "      <td>None</td>\n",
       "    </tr>\n",
       "    <tr>\n",
       "      <th>6</th>\n",
       "      <td>2016.0</td>\n",
       "      <td>4.0</td>\n",
       "      <td>296</td>\n",
       "      <td>UNITED ARAB EMIRATES</td>\n",
       "      <td>NYC</td>\n",
       "      <td>2016-04-30</td>\n",
       "      <td>B2</td>\n",
       "      <td>pleasure</td>\n",
       "      <td>None</td>\n",
       "      <td>None</td>\n",
       "      <td>None</td>\n",
       "    </tr>\n",
       "    <tr>\n",
       "      <th>7</th>\n",
       "      <td>2016.0</td>\n",
       "      <td>4.0</td>\n",
       "      <td>296</td>\n",
       "      <td>UNITED ARAB EMIRATES</td>\n",
       "      <td>NYC</td>\n",
       "      <td>2016-04-30</td>\n",
       "      <td>B2</td>\n",
       "      <td>pleasure</td>\n",
       "      <td>None</td>\n",
       "      <td>None</td>\n",
       "      <td>None</td>\n",
       "    </tr>\n",
       "    <tr>\n",
       "      <th>8</th>\n",
       "      <td>2016.0</td>\n",
       "      <td>4.0</td>\n",
       "      <td>296</td>\n",
       "      <td>UNITED ARAB EMIRATES</td>\n",
       "      <td>MAA</td>\n",
       "      <td>2016-04-30</td>\n",
       "      <td>B2</td>\n",
       "      <td>pleasure</td>\n",
       "      <td>None</td>\n",
       "      <td>None</td>\n",
       "      <td>None</td>\n",
       "    </tr>\n",
       "    <tr>\n",
       "      <th>9</th>\n",
       "      <td>2016.0</td>\n",
       "      <td>4.0</td>\n",
       "      <td>296</td>\n",
       "      <td>UNITED ARAB EMIRATES</td>\n",
       "      <td>CHI</td>\n",
       "      <td>2016-04-30</td>\n",
       "      <td>B2</td>\n",
       "      <td>pleasure</td>\n",
       "      <td>None</td>\n",
       "      <td>None</td>\n",
       "      <td>None</td>\n",
       "    </tr>\n",
       "    <tr>\n",
       "      <th>10</th>\n",
       "      <td>2016.0</td>\n",
       "      <td>4.0</td>\n",
       "      <td>296</td>\n",
       "      <td>UNITED ARAB EMIRATES</td>\n",
       "      <td>WAS</td>\n",
       "      <td>2016-04-30</td>\n",
       "      <td>B2</td>\n",
       "      <td>pleasure</td>\n",
       "      <td>None</td>\n",
       "      <td>None</td>\n",
       "      <td>None</td>\n",
       "    </tr>\n",
       "    <tr>\n",
       "      <th>11</th>\n",
       "      <td>2016.0</td>\n",
       "      <td>4.0</td>\n",
       "      <td>296</td>\n",
       "      <td>UNITED ARAB EMIRATES</td>\n",
       "      <td>WAS</td>\n",
       "      <td>2016-04-30</td>\n",
       "      <td>B1</td>\n",
       "      <td>business</td>\n",
       "      <td>None</td>\n",
       "      <td>None</td>\n",
       "      <td>None</td>\n",
       "    </tr>\n",
       "    <tr>\n",
       "      <th>12</th>\n",
       "      <td>2016.0</td>\n",
       "      <td>4.0</td>\n",
       "      <td>296</td>\n",
       "      <td>UNITED ARAB EMIRATES</td>\n",
       "      <td>WAS</td>\n",
       "      <td>2016-04-30</td>\n",
       "      <td>B1</td>\n",
       "      <td>business</td>\n",
       "      <td>None</td>\n",
       "      <td>None</td>\n",
       "      <td>None</td>\n",
       "    </tr>\n",
       "    <tr>\n",
       "      <th>13</th>\n",
       "      <td>2016.0</td>\n",
       "      <td>4.0</td>\n",
       "      <td>296</td>\n",
       "      <td>UNITED ARAB EMIRATES</td>\n",
       "      <td>WAS</td>\n",
       "      <td>2016-04-30</td>\n",
       "      <td>B1</td>\n",
       "      <td>business</td>\n",
       "      <td>None</td>\n",
       "      <td>None</td>\n",
       "      <td>None</td>\n",
       "    </tr>\n",
       "    <tr>\n",
       "      <th>14</th>\n",
       "      <td>2016.0</td>\n",
       "      <td>4.0</td>\n",
       "      <td>296</td>\n",
       "      <td>UNITED ARAB EMIRATES</td>\n",
       "      <td>WAS</td>\n",
       "      <td>2016-04-30</td>\n",
       "      <td>B1</td>\n",
       "      <td>business</td>\n",
       "      <td>None</td>\n",
       "      <td>None</td>\n",
       "      <td>None</td>\n",
       "    </tr>\n",
       "    <tr>\n",
       "      <th>15</th>\n",
       "      <td>2016.0</td>\n",
       "      <td>4.0</td>\n",
       "      <td>296</td>\n",
       "      <td>UNITED ARAB EMIRATES</td>\n",
       "      <td>WAS</td>\n",
       "      <td>2016-04-30</td>\n",
       "      <td>B1</td>\n",
       "      <td>business</td>\n",
       "      <td>None</td>\n",
       "      <td>None</td>\n",
       "      <td>None</td>\n",
       "    </tr>\n",
       "    <tr>\n",
       "      <th>16</th>\n",
       "      <td>2016.0</td>\n",
       "      <td>4.0</td>\n",
       "      <td>296</td>\n",
       "      <td>UNITED ARAB EMIRATES</td>\n",
       "      <td>HOU</td>\n",
       "      <td>2016-04-30</td>\n",
       "      <td>B1</td>\n",
       "      <td>business</td>\n",
       "      <td>None</td>\n",
       "      <td>None</td>\n",
       "      <td>None</td>\n",
       "    </tr>\n",
       "    <tr>\n",
       "      <th>17</th>\n",
       "      <td>2016.0</td>\n",
       "      <td>4.0</td>\n",
       "      <td>296</td>\n",
       "      <td>UNITED ARAB EMIRATES</td>\n",
       "      <td>HOU</td>\n",
       "      <td>2016-04-30</td>\n",
       "      <td>B1</td>\n",
       "      <td>business</td>\n",
       "      <td>None</td>\n",
       "      <td>None</td>\n",
       "      <td>None</td>\n",
       "    </tr>\n",
       "    <tr>\n",
       "      <th>18</th>\n",
       "      <td>2016.0</td>\n",
       "      <td>4.0</td>\n",
       "      <td>296</td>\n",
       "      <td>UNITED ARAB EMIRATES</td>\n",
       "      <td>HOU</td>\n",
       "      <td>2016-04-30</td>\n",
       "      <td>B1</td>\n",
       "      <td>business</td>\n",
       "      <td>None</td>\n",
       "      <td>None</td>\n",
       "      <td>None</td>\n",
       "    </tr>\n",
       "    <tr>\n",
       "      <th>19</th>\n",
       "      <td>2016.0</td>\n",
       "      <td>4.0</td>\n",
       "      <td>296</td>\n",
       "      <td>UNITED ARAB EMIRATES</td>\n",
       "      <td>HOU</td>\n",
       "      <td>2016-04-30</td>\n",
       "      <td>B1</td>\n",
       "      <td>business</td>\n",
       "      <td>None</td>\n",
       "      <td>None</td>\n",
       "      <td>None</td>\n",
       "    </tr>\n",
       "  </tbody>\n",
       "</table>\n",
       "</div>"
      ],
      "text/plain": [
       "      year  month  origin_city          country_name destination_city  \\\n",
       "0   2016.0    4.0          296  UNITED ARAB EMIRATES              NYC   \n",
       "1   2016.0    4.0          296  UNITED ARAB EMIRATES              DAL   \n",
       "2   2016.0    4.0          296  UNITED ARAB EMIRATES              DAL   \n",
       "3   2016.0    4.0          296  UNITED ARAB EMIRATES              DAL   \n",
       "4   2016.0    4.0          296  UNITED ARAB EMIRATES              HOU   \n",
       "5   2016.0    4.0          296  UNITED ARAB EMIRATES              NYC   \n",
       "6   2016.0    4.0          296  UNITED ARAB EMIRATES              NYC   \n",
       "7   2016.0    4.0          296  UNITED ARAB EMIRATES              NYC   \n",
       "8   2016.0    4.0          296  UNITED ARAB EMIRATES              MAA   \n",
       "9   2016.0    4.0          296  UNITED ARAB EMIRATES              CHI   \n",
       "10  2016.0    4.0          296  UNITED ARAB EMIRATES              WAS   \n",
       "11  2016.0    4.0          296  UNITED ARAB EMIRATES              WAS   \n",
       "12  2016.0    4.0          296  UNITED ARAB EMIRATES              WAS   \n",
       "13  2016.0    4.0          296  UNITED ARAB EMIRATES              WAS   \n",
       "14  2016.0    4.0          296  UNITED ARAB EMIRATES              WAS   \n",
       "15  2016.0    4.0          296  UNITED ARAB EMIRATES              WAS   \n",
       "16  2016.0    4.0          296  UNITED ARAB EMIRATES              HOU   \n",
       "17  2016.0    4.0          296  UNITED ARAB EMIRATES              HOU   \n",
       "18  2016.0    4.0          296  UNITED ARAB EMIRATES              HOU   \n",
       "19  2016.0    4.0          296  UNITED ARAB EMIRATES              HOU   \n",
       "\n",
       "   arrival_date visatype      visa total_population  city state  \n",
       "0    2016-04-30       B2  pleasure             None  None  None  \n",
       "1    2016-04-30       B2  pleasure             None  None  None  \n",
       "2    2016-04-30       B2  pleasure             None  None  None  \n",
       "3    2016-04-30       B2  pleasure             None  None  None  \n",
       "4    2016-04-30       B1  business             None  None  None  \n",
       "5    2016-04-29       B2  pleasure             None  None  None  \n",
       "6    2016-04-30       B2  pleasure             None  None  None  \n",
       "7    2016-04-30       B2  pleasure             None  None  None  \n",
       "8    2016-04-30       B2  pleasure             None  None  None  \n",
       "9    2016-04-30       B2  pleasure             None  None  None  \n",
       "10   2016-04-30       B2  pleasure             None  None  None  \n",
       "11   2016-04-30       B1  business             None  None  None  \n",
       "12   2016-04-30       B1  business             None  None  None  \n",
       "13   2016-04-30       B1  business             None  None  None  \n",
       "14   2016-04-30       B1  business             None  None  None  \n",
       "15   2016-04-30       B1  business             None  None  None  \n",
       "16   2016-04-30       B1  business             None  None  None  \n",
       "17   2016-04-30       B1  business             None  None  None  \n",
       "18   2016-04-30       B1  business             None  None  None  \n",
       "19   2016-04-30       B1  business             None  None  None  "
      ]
     },
     "execution_count": 85,
     "metadata": {},
     "output_type": "execute_result"
    }
   ],
   "source": [
    "countries_df.createOrReplaceTempView('countries')\n",
    "\n",
    "demographics_immigration = spark.sql(\"\"\"\n",
    "    SELECT \n",
    "        i94yr as year,\n",
    "        i94mon as month,\n",
    "        i94cit as origin_city,\n",
    "        country_name,\n",
    "        i94port as destination_city,\n",
    "        arrdate as arrival_date,\n",
    "        visatype as visatype,\n",
    "        (CASE WHEN i94visa = '1.0' \n",
    "            THEN 'business'\n",
    "            ELSE \n",
    "                (CASE WHEN i94visa = '3.0' \n",
    "                     THEN 'student' \n",
    "                     ELSE (CASE WHEN i94visa = '2.0' \n",
    "                              THEN 'pleasure' \n",
    "                              ELSE 'unknown'\n",
    "                          END)\n",
    "                END)\n",
    "        END) as visa,\n",
    "        total_population,\n",
    "        City as city,\n",
    "        State as state\n",
    "    FROM immigrations_table\n",
    "    LEFT JOIN demographics_table ON demographics_table.city_code = immigrations_table.i94port\n",
    "    LEFT JOIN countries ON countries.country_code = immigrations_table.i94cit\n",
    "\"\"\")\n",
    "demographics_immigration.limit(20).toPandas()"
   ]
  },
  {
   "cell_type": "markdown",
   "metadata": {
    "editable": true
   },
   "source": [
    "#### 4.2 Data Quality Checks\n",
    "\n",
    "Quality Checks have been executed during loading and exploring the data and in the ETL pipeline functions. \n",
    "\n",
    "* <u>Demographic Data</u>\\\n",
    "Check for empty cells. Check if result contain all 40m datasets\n",
    "\n",
    "* <u>Immigration data</u>\\\n",
    "Aggregate all given data to one dataframe. Remove columns not available in all datasets.\n",
    "\n",
    "* <u>Airport Codes</u>\\\n",
    "Filter for US airports with valid state code."
   ]
  },
  {
   "cell_type": "markdown",
   "metadata": {
    "editable": true
   },
   "source": [
    "#### 4.3 Data dictionary \n",
    "\n",
    "##### 4.3.1 Immigration Data \n",
    "\n",
    "\n",
    "\n",
    "<table align=\"left\">\n",
    "<tr>\n",
    "    <th>Column</th><th>Description</th>\n",
    "    </tr>\n",
    "<tr>\n",
    "    <td>cicid</td><td>Unique record ID</td>\n",
    "</tr>\n",
    "<tr><td>i94yr</td><td>4 digit year</td></tr>\n",
    "<tr><td>ii94mon</td><td>Numeric month</td></tr>\n",
    "<tr><td>ii94cit</td><td>3 digit code for immigrant country of birth</td></tr>\n",
    "<tr><td>ii94res</td><td>3 digit code for immigrant country of residence</td></tr>\n",
    "<tr><td>ii94port</td><td>Port of admission</td></tr>\n",
    "<tr><td>iarrdate</td><td>Arrival Date in the USA</td></tr>\n",
    "<tr><td>ii94mode</td><td>Mode of transportation (1 = Air; 2 = Sea; 3 = Land; 9 = Not reported)\\</td></tr>\n",
    "<tr><td>ii94addr</td><td>USA State of arrival</td></tr>\n",
    "<tr><td>idepdate</td><td>Departure Date from the USA</td></tr>\n",
    "<tr><td>ii94bir</td><td>Age of Respondent in Years</td></tr>\n",
    "<tr><td>ii94visa</td><td>Visa codes collapsed into three categories</td></tr>\n",
    "<tr><td>icount</td><td>Field used for summary statistics</td></tr>\n",
    "<tr><td>idtadfile</td><td>Character Date Field - Date added to I-94 Files</td></tr>\n",
    "<tr><td>ivisapost</td><td>Department of State where where Visa was issued</td></tr>\n",
    "<tr><td>ioccup</td><td>Occupation that will be performed in U.S</td></tr>\n",
    "<tr><td>ientdepa</td><td>Arrival Flag - admitted or paroled into the U.S.</td></tr>\n",
    "<tr><td>ientdepd</td><td>Departure Flag - Departed, lost I-94 or is deceased</td></tr>\n",
    "<tr><td>ientdepu</td><td>Update Flag - Either apprehended, overstayed, adjusted to perm residence</td></tr>\n",
    "<tr><td>imatflag</td><td>Match flag - Match of arrival and departure records</td></tr>\n",
    "<tr><td>ibiryear</td><td>4 digit year of birth</td></tr>\n",
    "<tr><td>idtaddto</td><td>Character Date Field - Date to which admitted to U.S. (allowed to stay until)</td></tr>\n",
    "<tr><td>igender</td><td>Non-immigrant sex</td></tr>\n",
    "<tr><td>iinsnum</td><td>INS number</td></tr>\n",
    "<tr><td>iairline</td><td>Airline used to arrive in U.S.</td></tr>\n",
    "<tr><td>iadmnum</td><td>Admission Number</td></tr>\n",
    "<tr><td>ifltno</td><td>Flight number of Airline used to arrive in U.S.</td></tr>\n",
    "<tr><td>ivisatype</td><td>Class of admission legally admitting the non-immigrant to temporarily stay in U.S.</td></tr>\n",
    "</table>\n"
   ]
  },
  {
   "cell_type": "markdown",
   "metadata": {
    "editable": true
   },
   "source": [
    "##### 4.3.2 Demographic Data\n",
    "\n",
    "<table align=\"left\">\n",
    "      <tr>,\n",
    "        <th >Column</th>\n",
    "        <th >Description</th>\n",
    "      </tr>\n",
    "     <tr><td>City</td><td>City Name</td>\n",
    "     <tr><td>State</td><td>US State where the city is located</td>\n",
    "     <tr><td>Median Age</td><td>Median age of the population</td>\n",
    "     <tr><td>Male Population</td><td>Count of male population</td>\n",
    "     <tr><td>Female Population</td><td>Count of female population</td>\n",
    "     <tr><td>Total Population</td><td>Count of total population</td>\n",
    "     <tr><td>Number of Veterans</td><td>Count of total veterans</td>\n",
    "     <tr><td>Foreign born</td><td>Count of residents of the city that were not born in that city</td>\n",
    "     <tr><td>Average household Size</td><td>Average household size in the city</td>\n",
    "     <tr><td>State Code</td><td>2 character US State code</td>\n",
    "     <tr><td>Race</td><td>Respondent race</td></tr>\n",
    "    <tr><td>Count</td><td>Count of people of race</td></tr>\n",
    "         \n",
    "</table>\n"
   ]
  },
  {
   "cell_type": "markdown",
   "metadata": {
    "editable": true
   },
   "source": [
    "#### Step 5: Complete Project Write Up\n",
    "* <u>choice of tools and technologies:</u>\n",
    "\n",
    "To get an overview of the data and run a few queries it seem sufficient to set up a Juniper note book and use python to explore the datasets. For quick access Spark is used to load the data and store in parquet format which allows quick load and save.\n",
    "\n",
    "* <u>update of data:</u>\n",
    "\n",
    "Immigration data should be updated every month because it is collected monthly.\n",
    "For demographic data it seem sufficient to be updated oncy a year or even less.\n"
   ]
  },
  {
   "cell_type": "markdown",
   "metadata": {
    "editable": true
   },
   "source": [
    "#### If the data was increased by 100x:\n",
    "Spark scales very well horizontically. Set up spark cluster according to requirements regarding processing time."
   ]
  },
  {
   "cell_type": "markdown",
   "metadata": {
    "editable": true
   },
   "source": [
    "#### The data populates a dashboard that must be updated on a daily basis by 7am every day.\n",
    "Use a scheduler like Airflow. Use the code form this note book to create a DAG and schedule it accordingly"
   ]
  },
  {
   "cell_type": "markdown",
   "metadata": {
    "editable": true
   },
   "source": [
    "#### The database needed to be accessed by 100+ people.\n",
    "\n",
    "Set up a distributed database like Redshift to store the data permanently in fact and dimension tables."
   ]
  }
 ],
 "metadata": {
  "kernelspec": {
   "display_name": "Python 3",
   "language": "python",
   "name": "python3"
  },
  "language_info": {
   "codemirror_mode": {
    "name": "ipython",
    "version": 3
   },
   "file_extension": ".py",
   "mimetype": "text/x-python",
   "name": "python",
   "nbconvert_exporter": "python",
   "pygments_lexer": "ipython3",
   "version": "3.6.3"
  }
 },
 "nbformat": 4,
 "nbformat_minor": 4
}
